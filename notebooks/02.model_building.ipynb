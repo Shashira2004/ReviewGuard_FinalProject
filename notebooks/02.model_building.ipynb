{
 "cells": [
  {
   "cell_type": "code",
   "execution_count": 1,
   "id": "0b2a17b9-c933-4538-804a-4af3af52217d",
   "metadata": {},
   "outputs": [],
   "source": [
    "import numpy as np\n",
    "import pandas as pd\n",
    "import matplotlib.pyplot as plt"
   ]
  },
  {
   "cell_type": "code",
   "execution_count": 2,
   "id": "6d638a19-e9e6-4790-b9f1-650ed3d6afd8",
   "metadata": {},
   "outputs": [],
   "source": [
    "data = pd.read_csv('../artifacts/fake_product_reviews_dataset.csv')"
   ]
  },
  {
   "cell_type": "code",
   "execution_count": 3,
   "id": "4c65e538-c599-4f1d-b361-c7439bc8029f",
   "metadata": {},
   "outputs": [
    {
     "data": {
      "text/html": [
       "<div>\n",
       "<style scoped>\n",
       "    .dataframe tbody tr th:only-of-type {\n",
       "        vertical-align: middle;\n",
       "    }\n",
       "\n",
       "    .dataframe tbody tr th {\n",
       "        vertical-align: top;\n",
       "    }\n",
       "\n",
       "    .dataframe thead th {\n",
       "        text-align: right;\n",
       "    }\n",
       "</style>\n",
       "<table border=\"1\" class=\"dataframe\">\n",
       "  <thead>\n",
       "    <tr style=\"text-align: right;\">\n",
       "      <th></th>\n",
       "      <th>id</th>\n",
       "      <th>label</th>\n",
       "      <th>review</th>\n",
       "    </tr>\n",
       "  </thead>\n",
       "  <tbody>\n",
       "    <tr>\n",
       "      <th>0</th>\n",
       "      <td>1</td>\n",
       "      <td>0</td>\n",
       "      <td>Overall, I am quite satisfied. The device matc...</td>\n",
       "    </tr>\n",
       "    <tr>\n",
       "      <th>1</th>\n",
       "      <td>2</td>\n",
       "      <td>0</td>\n",
       "      <td>I purchased this device a few weeks ago, and i...</td>\n",
       "    </tr>\n",
       "    <tr>\n",
       "      <th>2</th>\n",
       "      <td>3</td>\n",
       "      <td>0</td>\n",
       "      <td>After reading several positive reviews, I deci...</td>\n",
       "    </tr>\n",
       "    <tr>\n",
       "      <th>3</th>\n",
       "      <td>4</td>\n",
       "      <td>0</td>\n",
       "      <td>I ve been using this for about a month now, an...</td>\n",
       "    </tr>\n",
       "    <tr>\n",
       "      <th>4</th>\n",
       "      <td>5</td>\n",
       "      <td>0</td>\n",
       "      <td>This is exactly what I was looking for. The de...</td>\n",
       "    </tr>\n",
       "  </tbody>\n",
       "</table>\n",
       "</div>"
      ],
      "text/plain": [
       "   id  label                                             review\n",
       "0   1      0  Overall, I am quite satisfied. The device matc...\n",
       "1   2      0  I purchased this device a few weeks ago, and i...\n",
       "2   3      0  After reading several positive reviews, I deci...\n",
       "3   4      0  I ve been using this for about a month now, an...\n",
       "4   5      0  This is exactly what I was looking for. The de..."
      ]
     },
     "execution_count": 3,
     "metadata": {},
     "output_type": "execute_result"
    }
   ],
   "source": [
    "data.head()"
   ]
  },
  {
   "cell_type": "markdown",
   "id": "01f168c7-c533-4128-b737-34da8d30579c",
   "metadata": {},
   "source": [
    "## Data Preprocessing"
   ]
  },
  {
   "cell_type": "code",
   "execution_count": 4,
   "id": "cf0b4094-8a5e-4342-b181-1ae73179df3c",
   "metadata": {},
   "outputs": [
    {
     "data": {
      "text/plain": [
       "(5000, 3)"
      ]
     },
     "execution_count": 4,
     "metadata": {},
     "output_type": "execute_result"
    }
   ],
   "source": [
    "data.shape\n"
   ]
  },
  {
   "cell_type": "code",
   "execution_count": 5,
   "id": "62db7909-a1c3-4c4f-a5c2-26cbc6073703",
   "metadata": {},
   "outputs": [
    {
     "data": {
      "text/plain": [
       "np.int64(0)"
      ]
     },
     "execution_count": 5,
     "metadata": {},
     "output_type": "execute_result"
    }
   ],
   "source": [
    "data.duplicated().sum()\n"
   ]
  },
  {
   "cell_type": "code",
   "execution_count": 6,
   "id": "2bb4c641-7348-4881-bf65-1ca9332994e5",
   "metadata": {},
   "outputs": [
    {
     "data": {
      "text/plain": [
       "id        0\n",
       "label     0\n",
       "review    0\n",
       "dtype: int64"
      ]
     },
     "execution_count": 6,
     "metadata": {},
     "output_type": "execute_result"
    }
   ],
   "source": [
    "data.isnull().sum()\n"
   ]
  },
  {
   "cell_type": "markdown",
   "id": "d1f4c104-f29d-412e-a488-9b870d112527",
   "metadata": {},
   "source": [
    "### Text Preprocessing"
   ]
  },
  {
   "cell_type": "code",
   "execution_count": 7,
   "id": "d7e22338-85a9-4112-97ee-e959d4d6d56a",
   "metadata": {},
   "outputs": [],
   "source": [
    "import re\n",
    "import string"
   ]
  },
  {
   "cell_type": "code",
   "execution_count": 8,
   "id": "fd37115d-16d0-400e-9eef-f5095df3e002",
   "metadata": {},
   "outputs": [
    {
     "data": {
      "text/plain": [
       "0    Overall, I am quite satisfied. The device matc...\n",
       "1    I purchased this device a few weeks ago, and i...\n",
       "2    After reading several positive reviews, I deci...\n",
       "3    I ve been using this for about a month now, an...\n",
       "4    This is exactly what I was looking for. The de...\n",
       "Name: review, dtype: object"
      ]
     },
     "execution_count": 8,
     "metadata": {},
     "output_type": "execute_result"
    }
   ],
   "source": [
    "data[\"review\"].head(5)\n"
   ]
  },
  {
   "cell_type": "markdown",
   "id": "5099c3e0-4f01-48a9-b6e6-363ec9e85ed6",
   "metadata": {},
   "source": [
    "convert uppercase to lowercase\n",
    "\n"
   ]
  },
  {
   "cell_type": "code",
   "execution_count": 9,
   "id": "a9848786-d532-45e5-87ee-3d58e2bbefda",
   "metadata": {},
   "outputs": [],
   "source": [
    "data[\"review\"] = data[\"review\"].apply(lambda x: \" \".join(x.lower() for x in x.split()))\n"
   ]
  },
  {
   "cell_type": "code",
   "execution_count": 10,
   "id": "3165d1d3-971f-483a-ab43-a0405458adc1",
   "metadata": {},
   "outputs": [
    {
     "data": {
      "text/plain": [
       "0    overall, i am quite satisfied. the device matc...\n",
       "1    i purchased this device a few weeks ago, and i...\n",
       "2    after reading several positive reviews, i deci...\n",
       "3    i ve been using this for about a month now, an...\n",
       "4    this is exactly what i was looking for. the de...\n",
       "Name: review, dtype: object"
      ]
     },
     "execution_count": 10,
     "metadata": {},
     "output_type": "execute_result"
    }
   ],
   "source": [
    "data[\"review\"].head(5)\n"
   ]
  },
  {
   "cell_type": "markdown",
   "id": "e6a183fb-2267-44a7-acfb-a88ae146d40f",
   "metadata": {},
   "source": [
    "remove links\n",
    "\n"
   ]
  },
  {
   "cell_type": "code",
   "execution_count": 11,
   "id": "51a580a7-c63c-42c6-a8bb-ec02e7601f07",
   "metadata": {},
   "outputs": [],
   "source": [
    "data[\"review\"] = data['review'].apply(lambda x: \" \".join(re.sub(r'^https?:\\/\\/.*[\\r\\n]*', '', x, flags=re.MULTILINE) for x in x.split()))\n"
   ]
  },
  {
   "cell_type": "code",
   "execution_count": 12,
   "id": "c9c31acc-8416-44d6-88e2-51e735a41bf0",
   "metadata": {},
   "outputs": [
    {
     "data": {
      "text/plain": [
       "0    overall, i am quite satisfied. the device matc...\n",
       "1    i purchased this device a few weeks ago, and i...\n",
       "2    after reading several positive reviews, i deci...\n",
       "3    i ve been using this for about a month now, an...\n",
       "4    this is exactly what i was looking for. the de...\n",
       "Name: review, dtype: object"
      ]
     },
     "execution_count": 12,
     "metadata": {},
     "output_type": "execute_result"
    }
   ],
   "source": [
    "data[\"review\"].head(5)\n"
   ]
  },
  {
   "cell_type": "markdown",
   "id": "1aa1de47-9933-42b5-bbfd-0063541c6070",
   "metadata": {},
   "source": [
    "Remove punctuations\n",
    "\n"
   ]
  },
  {
   "cell_type": "code",
   "execution_count": 13,
   "id": "cc23dcfd-f0ee-43b2-a71a-374123091592",
   "metadata": {},
   "outputs": [
    {
     "data": {
      "text/plain": [
       "'!\"#$%&\\'()*+,-./:;<=>?@[\\\\]^_`{|}~'"
      ]
     },
     "execution_count": 13,
     "metadata": {},
     "output_type": "execute_result"
    }
   ],
   "source": [
    "string.punctuation"
   ]
  },
  {
   "cell_type": "code",
   "execution_count": 14,
   "id": "23da7e79-a76d-489e-9ba0-7cfab086a2a0",
   "metadata": {},
   "outputs": [],
   "source": [
    "def remove_punctuations(text):\n",
    "    for punctuation in string.punctuation:\n",
    "        text = text.replace(punctuation, '')\n",
    "    return text\n",
    "\n",
    "data[\"review\"] = data[\"review\"].apply(remove_punctuations)"
   ]
  },
  {
   "cell_type": "code",
   "execution_count": 15,
   "id": "014c5a6f-b6a1-4044-8fb6-42e339553128",
   "metadata": {},
   "outputs": [
    {
     "data": {
      "text/plain": [
       "4990    after reading several positive reviews i decid...\n",
       "4991    overall i am quite satisfied the product match...\n",
       "4992    after reading several positive reviews i decid...\n",
       "4993    i am so thrilled with this item it s way bette...\n",
       "4994    this is the best product i have ever used in m...\n",
       "4995    absolutely incredible this item changed my lif...\n",
       "4996    i purchased this device a few weeks ago and it...\n",
       "4997    i am so thrilled with this item it s way bette...\n",
       "4998    i am so thrilled with this item it s way bette...\n",
       "4999    after reading several positive reviews i decid...\n",
       "Name: review, dtype: object"
      ]
     },
     "execution_count": 15,
     "metadata": {},
     "output_type": "execute_result"
    }
   ],
   "source": [
    "data[\"review\"].tail(10)\n"
   ]
  },
  {
   "cell_type": "markdown",
   "id": "85e5457a-9a39-4ff6-928b-176857f209ad",
   "metadata": {},
   "source": [
    "remove numbers\n",
    "\n"
   ]
  },
  {
   "cell_type": "code",
   "execution_count": 16,
   "id": "0865e299-1161-450b-894a-826560fac1eb",
   "metadata": {},
   "outputs": [],
   "source": [
    "data[\"review\"] = data['review'].str.replace(r'\\d+', '', regex=True)\n"
   ]
  },
  {
   "cell_type": "code",
   "execution_count": 17,
   "id": "498529cd-e30c-41e9-a613-778963a0f8b6",
   "metadata": {},
   "outputs": [
    {
     "data": {
      "text/plain": [
       "4990    after reading several positive reviews i decid...\n",
       "4991    overall i am quite satisfied the product match...\n",
       "4992    after reading several positive reviews i decid...\n",
       "4993    i am so thrilled with this item it s way bette...\n",
       "4994    this is the best product i have ever used in m...\n",
       "4995    absolutely incredible this item changed my lif...\n",
       "4996    i purchased this device a few weeks ago and it...\n",
       "4997    i am so thrilled with this item it s way bette...\n",
       "4998    i am so thrilled with this item it s way bette...\n",
       "4999    after reading several positive reviews i decid...\n",
       "Name: review, dtype: object"
      ]
     },
     "execution_count": 17,
     "metadata": {},
     "output_type": "execute_result"
    }
   ],
   "source": [
    "data[\"review\"].tail(10)\n"
   ]
  },
  {
   "cell_type": "markdown",
   "id": "5f4ea2e8-661c-4d1f-ba98-605408226822",
   "metadata": {},
   "source": [
    "remove stopwords\n",
    "\n"
   ]
  },
  {
   "cell_type": "code",
   "execution_count": 18,
   "id": "c308c1eb-dc46-42f0-a9a9-aec4bf21e9aa",
   "metadata": {},
   "outputs": [
    {
     "name": "stdout",
     "output_type": "stream",
     "text": [
      "Requirement already satisfied: nltk in c:\\users\\shashira\\desktop\\reviewguard_finalproject\\env\\lib\\site-packages (3.9.1)\n",
      "Requirement already satisfied: click in c:\\users\\shashira\\desktop\\reviewguard_finalproject\\env\\lib\\site-packages (from nltk) (8.2.1)\n",
      "Requirement already satisfied: joblib in c:\\users\\shashira\\desktop\\reviewguard_finalproject\\env\\lib\\site-packages (from nltk) (1.5.1)\n",
      "Requirement already satisfied: regex>=2021.8.3 in c:\\users\\shashira\\desktop\\reviewguard_finalproject\\env\\lib\\site-packages (from nltk) (2024.11.6)\n",
      "Requirement already satisfied: tqdm in c:\\users\\shashira\\desktop\\reviewguard_finalproject\\env\\lib\\site-packages (from nltk) (4.67.1)\n",
      "Requirement already satisfied: colorama in c:\\users\\shashira\\desktop\\reviewguard_finalproject\\env\\lib\\site-packages (from click->nltk) (0.4.6)\n"
     ]
    },
    {
     "name": "stderr",
     "output_type": "stream",
     "text": [
      "\n",
      "[notice] A new release of pip is available: 25.1.1 -> 25.2\n",
      "[notice] To update, run: python.exe -m pip install --upgrade pip\n"
     ]
    }
   ],
   "source": [
    "!pip install nltk\n"
   ]
  },
  {
   "cell_type": "code",
   "execution_count": 19,
   "id": "86839088-3660-4bf2-a83c-083fc027f523",
   "metadata": {},
   "outputs": [],
   "source": [
    "import nltk\n"
   ]
  },
  {
   "cell_type": "code",
   "execution_count": 20,
   "id": "165adcae-e97d-45f3-8c8e-de22d7829915",
   "metadata": {},
   "outputs": [
    {
     "name": "stderr",
     "output_type": "stream",
     "text": [
      "[nltk_data] Downloading package stopwords to ../static/model...\n",
      "[nltk_data]   Package stopwords is already up-to-date!\n"
     ]
    },
    {
     "data": {
      "text/plain": [
       "True"
      ]
     },
     "execution_count": 20,
     "metadata": {},
     "output_type": "execute_result"
    }
   ],
   "source": [
    "nltk.download('stopwords', download_dir='../static/model')\n"
   ]
  },
  {
   "cell_type": "code",
   "execution_count": 21,
   "id": "42847f7b-6759-4a28-8fcf-d731d5f655ae",
   "metadata": {},
   "outputs": [],
   "source": [
    "with open('../static/model/corpora/stopwords/english', 'r') as file:\n",
    "    sw = file.read().splitlines()"
   ]
  },
  {
   "cell_type": "code",
   "execution_count": 22,
   "id": "8d385a15-ba86-4c50-859d-ac9a61068c87",
   "metadata": {},
   "outputs": [
    {
     "data": {
      "text/plain": [
       "['a',\n",
       " 'about',\n",
       " 'above',\n",
       " 'after',\n",
       " 'again',\n",
       " 'against',\n",
       " 'ain',\n",
       " 'all',\n",
       " 'am',\n",
       " 'an',\n",
       " 'and',\n",
       " 'any',\n",
       " 'are',\n",
       " 'aren',\n",
       " \"aren't\",\n",
       " 'as',\n",
       " 'at',\n",
       " 'be',\n",
       " 'because',\n",
       " 'been',\n",
       " 'before',\n",
       " 'being',\n",
       " 'below',\n",
       " 'between',\n",
       " 'both',\n",
       " 'but',\n",
       " 'by',\n",
       " 'can',\n",
       " 'couldn',\n",
       " \"couldn't\",\n",
       " 'd',\n",
       " 'did',\n",
       " 'didn',\n",
       " \"didn't\",\n",
       " 'do',\n",
       " 'does',\n",
       " 'doesn',\n",
       " \"doesn't\",\n",
       " 'doing',\n",
       " 'don',\n",
       " \"don't\",\n",
       " 'down',\n",
       " 'during',\n",
       " 'each',\n",
       " 'few',\n",
       " 'for',\n",
       " 'from',\n",
       " 'further',\n",
       " 'had',\n",
       " 'hadn',\n",
       " \"hadn't\",\n",
       " 'has',\n",
       " 'hasn',\n",
       " \"hasn't\",\n",
       " 'have',\n",
       " 'haven',\n",
       " \"haven't\",\n",
       " 'having',\n",
       " 'he',\n",
       " \"he'd\",\n",
       " \"he'll\",\n",
       " 'her',\n",
       " 'here',\n",
       " 'hers',\n",
       " 'herself',\n",
       " \"he's\",\n",
       " 'him',\n",
       " 'himself',\n",
       " 'his',\n",
       " 'how',\n",
       " 'i',\n",
       " \"i'd\",\n",
       " 'if',\n",
       " \"i'll\",\n",
       " \"i'm\",\n",
       " 'in',\n",
       " 'into',\n",
       " 'is',\n",
       " 'isn',\n",
       " \"isn't\",\n",
       " 'it',\n",
       " \"it'd\",\n",
       " \"it'll\",\n",
       " \"it's\",\n",
       " 'its',\n",
       " 'itself',\n",
       " \"i've\",\n",
       " 'just',\n",
       " 'll',\n",
       " 'm',\n",
       " 'ma',\n",
       " 'me',\n",
       " 'mightn',\n",
       " \"mightn't\",\n",
       " 'more',\n",
       " 'most',\n",
       " 'mustn',\n",
       " \"mustn't\",\n",
       " 'my',\n",
       " 'myself',\n",
       " 'needn',\n",
       " \"needn't\",\n",
       " 'no',\n",
       " 'nor',\n",
       " 'not',\n",
       " 'now',\n",
       " 'o',\n",
       " 'of',\n",
       " 'off',\n",
       " 'on',\n",
       " 'once',\n",
       " 'only',\n",
       " 'or',\n",
       " 'other',\n",
       " 'our',\n",
       " 'ours',\n",
       " 'ourselves',\n",
       " 'out',\n",
       " 'over',\n",
       " 'own',\n",
       " 're',\n",
       " 's',\n",
       " 'same',\n",
       " 'shan',\n",
       " \"shan't\",\n",
       " 'she',\n",
       " \"she'd\",\n",
       " \"she'll\",\n",
       " \"she's\",\n",
       " 'should',\n",
       " 'shouldn',\n",
       " \"shouldn't\",\n",
       " \"should've\",\n",
       " 'so',\n",
       " 'some',\n",
       " 'such',\n",
       " 't',\n",
       " 'than',\n",
       " 'that',\n",
       " \"that'll\",\n",
       " 'the',\n",
       " 'their',\n",
       " 'theirs',\n",
       " 'them',\n",
       " 'themselves',\n",
       " 'then',\n",
       " 'there',\n",
       " 'these',\n",
       " 'they',\n",
       " \"they'd\",\n",
       " \"they'll\",\n",
       " \"they're\",\n",
       " \"they've\",\n",
       " 'this',\n",
       " 'those',\n",
       " 'through',\n",
       " 'to',\n",
       " 'too',\n",
       " 'under',\n",
       " 'until',\n",
       " 'up',\n",
       " 've',\n",
       " 'very',\n",
       " 'was',\n",
       " 'wasn',\n",
       " \"wasn't\",\n",
       " 'we',\n",
       " \"we'd\",\n",
       " \"we'll\",\n",
       " \"we're\",\n",
       " 'were',\n",
       " 'weren',\n",
       " \"weren't\",\n",
       " \"we've\",\n",
       " 'what',\n",
       " 'when',\n",
       " 'where',\n",
       " 'which',\n",
       " 'while',\n",
       " 'who',\n",
       " 'whom',\n",
       " 'why',\n",
       " 'will',\n",
       " 'with',\n",
       " 'won',\n",
       " \"won't\",\n",
       " 'wouldn',\n",
       " \"wouldn't\",\n",
       " 'y',\n",
       " 'you',\n",
       " \"you'd\",\n",
       " \"you'll\",\n",
       " 'your',\n",
       " \"you're\",\n",
       " 'yours',\n",
       " 'yourself',\n",
       " 'yourselves',\n",
       " \"you've\"]"
      ]
     },
     "execution_count": 22,
     "metadata": {},
     "output_type": "execute_result"
    }
   ],
   "source": [
    "sw"
   ]
  },
  {
   "cell_type": "code",
   "execution_count": 23,
   "id": "d803030d-eff2-42e9-9b3b-bca8347fe4b6",
   "metadata": {},
   "outputs": [],
   "source": [
    "data[\"review\"] = data[\"review\"].apply(lambda x: \" \".join(x for x in x.split() if x not in sw))\n"
   ]
  },
  {
   "cell_type": "code",
   "execution_count": 24,
   "id": "5b6a0dac-7e90-4512-9206-f76100a08fd5",
   "metadata": {},
   "outputs": [
    {
     "data": {
      "text/plain": [
       "0    overall quite satisfied device matches descrip...\n",
       "1    purchased device weeks ago consistently perfor...\n",
       "2    reading several positive reviews decided give ...\n",
       "3    using month continues work well day one really...\n",
       "4    exactly looking delireally fast packaging secu...\n",
       "Name: review, dtype: object"
      ]
     },
     "execution_count": 24,
     "metadata": {},
     "output_type": "execute_result"
    }
   ],
   "source": [
    "data[\"review\"].head()\n"
   ]
  },
  {
   "cell_type": "markdown",
   "id": "9e246c2e-9166-4e53-813d-6d43450c59a1",
   "metadata": {},
   "source": [
    "Stemming\n",
    "\n"
   ]
  },
  {
   "cell_type": "code",
   "execution_count": 25,
   "id": "9ca42825-cc2f-4f91-9ac2-dde8e64464a6",
   "metadata": {},
   "outputs": [],
   "source": [
    "from nltk.stem import PorterStemmer\n",
    "ps = PorterStemmer()"
   ]
  },
  {
   "cell_type": "code",
   "execution_count": 26,
   "id": "d02a4703-36fe-44cc-bdf9-73441f94b376",
   "metadata": {},
   "outputs": [],
   "source": [
    "data[\"review\"] = data[\"review\"].apply(lambda x: \" \".join(ps.stem(x) for x in x.split()))\n"
   ]
  },
  {
   "cell_type": "code",
   "execution_count": 27,
   "id": "6d3c2c02-4f71-42fd-9acc-df62f88d2b6e",
   "metadata": {},
   "outputs": [
    {
     "data": {
      "text/plain": [
       "0    overal quit satisfi devic match descript perfe...\n",
       "1    purchas devic week ago consist perform beyond ...\n",
       "2    read sever posit review decid give item tri im...\n",
       "3    use month continu work well day one realli hap...\n",
       "4    exactli look delir fast packag secur tool work...\n",
       "Name: review, dtype: object"
      ]
     },
     "execution_count": 27,
     "metadata": {},
     "output_type": "execute_result"
    }
   ],
   "source": [
    "data[\"review\"].head()\n"
   ]
  },
  {
   "cell_type": "code",
   "execution_count": 28,
   "id": "c805291f-2695-4dba-8784-40ba2bf07fc4",
   "metadata": {},
   "outputs": [
    {
     "data": {
      "text/html": [
       "<div>\n",
       "<style scoped>\n",
       "    .dataframe tbody tr th:only-of-type {\n",
       "        vertical-align: middle;\n",
       "    }\n",
       "\n",
       "    .dataframe tbody tr th {\n",
       "        vertical-align: top;\n",
       "    }\n",
       "\n",
       "    .dataframe thead th {\n",
       "        text-align: right;\n",
       "    }\n",
       "</style>\n",
       "<table border=\"1\" class=\"dataframe\">\n",
       "  <thead>\n",
       "    <tr style=\"text-align: right;\">\n",
       "      <th></th>\n",
       "      <th>id</th>\n",
       "      <th>label</th>\n",
       "      <th>review</th>\n",
       "    </tr>\n",
       "  </thead>\n",
       "  <tbody>\n",
       "    <tr>\n",
       "      <th>0</th>\n",
       "      <td>1</td>\n",
       "      <td>0</td>\n",
       "      <td>overal quit satisfi devic match descript perfe...</td>\n",
       "    </tr>\n",
       "    <tr>\n",
       "      <th>1</th>\n",
       "      <td>2</td>\n",
       "      <td>0</td>\n",
       "      <td>purchas devic week ago consist perform beyond ...</td>\n",
       "    </tr>\n",
       "    <tr>\n",
       "      <th>2</th>\n",
       "      <td>3</td>\n",
       "      <td>0</td>\n",
       "      <td>read sever posit review decid give item tri im...</td>\n",
       "    </tr>\n",
       "    <tr>\n",
       "      <th>3</th>\n",
       "      <td>4</td>\n",
       "      <td>0</td>\n",
       "      <td>use month continu work well day one realli hap...</td>\n",
       "    </tr>\n",
       "    <tr>\n",
       "      <th>4</th>\n",
       "      <td>5</td>\n",
       "      <td>0</td>\n",
       "      <td>exactli look delir fast packag secur tool work...</td>\n",
       "    </tr>\n",
       "    <tr>\n",
       "      <th>...</th>\n",
       "      <td>...</td>\n",
       "      <td>...</td>\n",
       "      <td>...</td>\n",
       "    </tr>\n",
       "    <tr>\n",
       "      <th>4995</th>\n",
       "      <td>4996</td>\n",
       "      <td>1</td>\n",
       "      <td>absolut incred item chang life way even descri...</td>\n",
       "    </tr>\n",
       "    <tr>\n",
       "      <th>4996</th>\n",
       "      <td>4997</td>\n",
       "      <td>0</td>\n",
       "      <td>purchas devic week ago consist perform beyond ...</td>\n",
       "    </tr>\n",
       "    <tr>\n",
       "      <th>4997</th>\n",
       "      <td>4998</td>\n",
       "      <td>1</td>\n",
       "      <td>thrill item way better anyth els market work p...</td>\n",
       "    </tr>\n",
       "    <tr>\n",
       "      <th>4998</th>\n",
       "      <td>4999</td>\n",
       "      <td>1</td>\n",
       "      <td>thrill item way better anyth els market work p...</td>\n",
       "    </tr>\n",
       "    <tr>\n",
       "      <th>4999</th>\n",
       "      <td>5000</td>\n",
       "      <td>0</td>\n",
       "      <td>read sever posit review decid give item tri im...</td>\n",
       "    </tr>\n",
       "  </tbody>\n",
       "</table>\n",
       "<p>5000 rows × 3 columns</p>\n",
       "</div>"
      ],
      "text/plain": [
       "        id  label                                             review\n",
       "0        1      0  overal quit satisfi devic match descript perfe...\n",
       "1        2      0  purchas devic week ago consist perform beyond ...\n",
       "2        3      0  read sever posit review decid give item tri im...\n",
       "3        4      0  use month continu work well day one realli hap...\n",
       "4        5      0  exactli look delir fast packag secur tool work...\n",
       "...    ...    ...                                                ...\n",
       "4995  4996      1  absolut incred item chang life way even descri...\n",
       "4996  4997      0  purchas devic week ago consist perform beyond ...\n",
       "4997  4998      1  thrill item way better anyth els market work p...\n",
       "4998  4999      1  thrill item way better anyth els market work p...\n",
       "4999  5000      0  read sever posit review decid give item tri im...\n",
       "\n",
       "[5000 rows x 3 columns]"
      ]
     },
     "execution_count": 28,
     "metadata": {},
     "output_type": "execute_result"
    }
   ],
   "source": [
    "data"
   ]
  },
  {
   "cell_type": "markdown",
   "id": "0fee7b53-de74-4f59-b55b-f6e68e7bbfd3",
   "metadata": {},
   "source": [
    "### Building Vacabulary\n"
   ]
  },
  {
   "cell_type": "code",
   "execution_count": 29,
   "id": "b9026d71-28ae-42d5-8ab8-a3bb6358ac78",
   "metadata": {},
   "outputs": [],
   "source": [
    "from collections import Counter\n",
    "vocab = Counter()"
   ]
  },
  {
   "cell_type": "code",
   "execution_count": 30,
   "id": "24276ce2-0c46-4e01-b0e4-4663c045e9b9",
   "metadata": {},
   "outputs": [
    {
     "data": {
      "text/plain": [
       "Counter()"
      ]
     },
     "execution_count": 30,
     "metadata": {},
     "output_type": "execute_result"
    }
   ],
   "source": [
    "vocab"
   ]
  },
  {
   "cell_type": "code",
   "execution_count": 31,
   "id": "a9d83135-6a9b-4186-8a9e-3026117de08f",
   "metadata": {},
   "outputs": [],
   "source": [
    "for sentence in data['review']:\n",
    "    vocab.update(sentence.split())"
   ]
  },
  {
   "cell_type": "code",
   "execution_count": 32,
   "id": "2ca0a410-04af-49b0-a09c-34edd424ae6e",
   "metadata": {},
   "outputs": [
    {
     "data": {
      "text/plain": [
       "152"
      ]
     },
     "execution_count": 32,
     "metadata": {},
     "output_type": "execute_result"
    }
   ],
   "source": [
    "len(vocab)\n"
   ]
  },
  {
   "cell_type": "code",
   "execution_count": 33,
   "id": "2e7128f3-2b3c-49d1-bc73-a804047082b0",
   "metadata": {},
   "outputs": [
    {
     "data": {
      "text/plain": [
       "(5000, 3)"
      ]
     },
     "execution_count": 33,
     "metadata": {},
     "output_type": "execute_result"
    }
   ],
   "source": [
    "data.shape\n"
   ]
  },
  {
   "cell_type": "code",
   "execution_count": 34,
   "id": "4057c958-49dd-4908-86c1-719cff3de76c",
   "metadata": {},
   "outputs": [],
   "source": [
    "tokens = [key for key in vocab if vocab[key] > 10]"
   ]
  },
  {
   "cell_type": "code",
   "execution_count": 35,
   "id": "841fc072-b312-4a29-adcd-8fd779081c41",
   "metadata": {},
   "outputs": [
    {
     "data": {
      "text/plain": [
       "['overal',\n",
       " 'quit',\n",
       " 'satisfi',\n",
       " 'devic',\n",
       " 'match',\n",
       " 'descript',\n",
       " 'perfectli',\n",
       " 'offer',\n",
       " 'great',\n",
       " 'valu',\n",
       " 'price',\n",
       " 'would',\n",
       " 'definit',\n",
       " 'buy',\n",
       " 'custom',\n",
       " 'servic',\n",
       " 'experi',\n",
       " 'also',\n",
       " 'posit',\n",
       " 'ad',\n",
       " 'satisfact',\n",
       " 'purchas',\n",
       " 'week',\n",
       " 'ago',\n",
       " 'consist',\n",
       " 'perform',\n",
       " 'beyond',\n",
       " 'expect',\n",
       " 'qualiti',\n",
       " 'impress',\n",
       " 'build',\n",
       " 'feel',\n",
       " 'durabl',\n",
       " 'recommend',\n",
       " 'anyon',\n",
       " 'look',\n",
       " 'reliabl',\n",
       " 'friend',\n",
       " 'even',\n",
       " 'ask',\n",
       " 'got',\n",
       " 'read',\n",
       " 'sever',\n",
       " 'review',\n",
       " 'decid',\n",
       " 'give',\n",
       " 'item',\n",
       " 'tri',\n",
       " 'im',\n",
       " 'glad',\n",
       " 'proven',\n",
       " 'effici',\n",
       " 'need',\n",
       " 'day',\n",
       " 'use',\n",
       " 'confid',\n",
       " 'say',\n",
       " 'meet',\n",
       " 'ive',\n",
       " 'everi',\n",
       " 'made',\n",
       " 'notic',\n",
       " 'differ',\n",
       " 'routin',\n",
       " 'exceed',\n",
       " 'initi',\n",
       " 'month',\n",
       " 'continu',\n",
       " 'work',\n",
       " 'well',\n",
       " 'one',\n",
       " 'realli',\n",
       " 'happi',\n",
       " 'similar',\n",
       " 'product',\n",
       " 'stand',\n",
       " 'term',\n",
       " 'exactli',\n",
       " 'delir',\n",
       " 'fast',\n",
       " 'packag',\n",
       " 'secur',\n",
       " 'tool',\n",
       " 'flawlessli',\n",
       " 'right',\n",
       " 'box',\n",
       " 'issu',\n",
       " 'describ',\n",
       " 'money',\n",
       " 'consid',\n",
       " 'featur',\n",
       " 'thrill',\n",
       " 'way',\n",
       " 'better',\n",
       " 'anyth',\n",
       " 'els',\n",
       " 'market',\n",
       " 'eextrem',\n",
       " 'situat',\n",
       " 'imagin',\n",
       " 'deliquit',\n",
       " 'worth',\n",
       " 'becom',\n",
       " 'stapl',\n",
       " 'daili',\n",
       " 'deliveri',\n",
       " 'best',\n",
       " 'ever',\n",
       " 'entir',\n",
       " 'life',\n",
       " 'cannot',\n",
       " 'believ',\n",
       " 'amaz',\n",
       " 'everyon',\n",
       " 'immedi',\n",
       " 'absolut',\n",
       " 'incred',\n",
       " 'chang',\n",
       " 'hesit',\n",
       " 'total',\n",
       " 'game',\n",
       " 'changer',\n",
       " 'deliextrem',\n",
       " 'arriv',\n",
       " 'time',\n",
       " 'show',\n",
       " 'attent',\n",
       " 'detail',\n",
       " 'equiteon',\n",
       " 'bought',\n",
       " 'thousand',\n",
       " 'onlin',\n",
       " 'none',\n",
       " 'compar',\n",
       " 'unbeliev',\n",
       " 'good',\n",
       " 'trust',\n",
       " 'regret',\n",
       " 'enough',\n",
       " 'flawless',\n",
       " 'perfect',\n",
       " 'wish',\n",
       " 'found',\n",
       " 'sooner',\n",
       " 'appreci',\n",
       " 'thought',\n",
       " 'design',\n",
       " 'eas',\n",
       " 'ereallyon',\n",
       " 'equit',\n",
       " 'eextremelyon',\n",
       " 'ereal']"
      ]
     },
     "execution_count": 35,
     "metadata": {},
     "output_type": "execute_result"
    }
   ],
   "source": [
    "tokens"
   ]
  },
  {
   "cell_type": "code",
   "execution_count": 36,
   "id": "b547381c-8ca1-402b-86a7-4fb5b32432b8",
   "metadata": {},
   "outputs": [],
   "source": [
    "def save_vocabulary(lines, filename):\n",
    "    data = '\\n'.join(lines)\n",
    "    file = open(filename, 'w', encoding=\"utf-8\")\n",
    "    file.write(data)\n",
    "    file.close()\n",
    "\n",
    "save_vocabulary(tokens, '../static/model/vocabulary.txt')"
   ]
  },
  {
   "cell_type": "markdown",
   "id": "3c8875a5-62b8-4d9f-be21-8621523452eb",
   "metadata": {},
   "source": [
    "## Divide dataset\n"
   ]
  },
  {
   "cell_type": "code",
   "execution_count": 37,
   "id": "f6952b2e-4b49-4e5d-8b76-b6b772b2ed1f",
   "metadata": {},
   "outputs": [],
   "source": [
    "X = data['review']\n",
    "y = data['label']"
   ]
  },
  {
   "cell_type": "code",
   "execution_count": 38,
   "id": "23ae358f-3f1c-434d-be08-7463cf238d3e",
   "metadata": {},
   "outputs": [
    {
     "name": "stdout",
     "output_type": "stream",
     "text": [
      "Requirement already satisfied: scikit-learn in c:\\users\\shashira\\desktop\\reviewguard_finalproject\\env\\lib\\site-packages (1.6.1)\n",
      "Requirement already satisfied: numpy>=1.19.5 in c:\\users\\shashira\\desktop\\reviewguard_finalproject\\env\\lib\\site-packages (from scikit-learn) (2.3.1)\n",
      "Requirement already satisfied: scipy>=1.6.0 in c:\\users\\shashira\\desktop\\reviewguard_finalproject\\env\\lib\\site-packages (from scikit-learn) (1.16.0)\n",
      "Requirement already satisfied: joblib>=1.2.0 in c:\\users\\shashira\\desktop\\reviewguard_finalproject\\env\\lib\\site-packages (from scikit-learn) (1.5.1)\n",
      "Requirement already satisfied: threadpoolctl>=3.1.0 in c:\\users\\shashira\\desktop\\reviewguard_finalproject\\env\\lib\\site-packages (from scikit-learn) (3.6.0)\n"
     ]
    },
    {
     "name": "stderr",
     "output_type": "stream",
     "text": [
      "\n",
      "[notice] A new release of pip is available: 25.1.1 -> 25.2\n",
      "[notice] To update, run: python.exe -m pip install --upgrade pip\n"
     ]
    }
   ],
   "source": [
    "!pip install scikit-learn\n"
   ]
  },
  {
   "cell_type": "code",
   "execution_count": 39,
   "id": "8ef060d9-8ce9-4059-8d44-11556900a60b",
   "metadata": {},
   "outputs": [],
   "source": [
    "from sklearn.model_selection import train_test_split\n",
    "X_train, X_test, y_train, y_test = train_test_split(X, y, test_size=0.2)"
   ]
  },
  {
   "cell_type": "code",
   "execution_count": 40,
   "id": "0415fc70-ce8b-4b9a-aac8-518294b4bc13",
   "metadata": {},
   "outputs": [
    {
     "data": {
      "text/plain": [
       "(4000,)"
      ]
     },
     "execution_count": 40,
     "metadata": {},
     "output_type": "execute_result"
    }
   ],
   "source": [
    "X_train.shape\n"
   ]
  },
  {
   "cell_type": "code",
   "execution_count": 41,
   "id": "5bd6903a-a379-48da-af6f-45f71ed39104",
   "metadata": {},
   "outputs": [
    {
     "data": {
      "text/plain": [
       "(1000,)"
      ]
     },
     "execution_count": 41,
     "metadata": {},
     "output_type": "execute_result"
    }
   ],
   "source": [
    "X_test.shape"
   ]
  },
  {
   "cell_type": "code",
   "execution_count": 42,
   "id": "24c228f6-7dac-47b6-8879-294c0c1a8a17",
   "metadata": {},
   "outputs": [
    {
     "data": {
      "text/plain": [
       "4911    overal quit satisfi devic match descript perfe...\n",
       "2298    best tool ever use entir life cannot believ am...\n",
       "1694    absolut incred item chang life way even descri...\n",
       "3974    use month continu work well day one realli hap...\n",
       "2435    best devic ever use entir life cannot believ a...\n",
       "                              ...                        \n",
       "3950    best devic ever use entir life cannot believ a...\n",
       "4086    overal quit satisfi devic match descript perfe...\n",
       "4207    use month continu work well day one realli hap...\n",
       "3459    use month continu work well day one realli hap...\n",
       "2279    read sever posit review decid give item tri im...\n",
       "Name: review, Length: 4000, dtype: object"
      ]
     },
     "execution_count": 42,
     "metadata": {},
     "output_type": "execute_result"
    }
   ],
   "source": [
    "X_train\n"
   ]
  },
  {
   "cell_type": "code",
   "execution_count": 43,
   "id": "834fcc52-a984-4c47-8d1f-7b8283fc4d7d",
   "metadata": {},
   "outputs": [
    {
     "data": {
      "text/plain": [
       "3599    thrill item way better anyth els market work p...\n",
       "1054    use month continu work well day one realli hap...\n",
       "3449    use month continu work well day one realli hap...\n",
       "2846    exactli look delir fast packag secur product w...\n",
       "3310    overal quit satisfi product match descript per...\n",
       "                              ...                        \n",
       "4504    exactli look delir fast packag secur devic wor...\n",
       "1112    read sever posit review decid give item tri im...\n",
       "3575    exactli look deliextrem fast packag secur tool...\n",
       "1000    bought thousand purchas onlin none compar one ...\n",
       "4512    purchas product week ago consist perform beyon...\n",
       "Name: review, Length: 1000, dtype: object"
      ]
     },
     "execution_count": 43,
     "metadata": {},
     "output_type": "execute_result"
    }
   ],
   "source": [
    "X_test"
   ]
  },
  {
   "cell_type": "code",
   "execution_count": 44,
   "id": "43a24e6d-b014-445f-bfda-d778c6df68fe",
   "metadata": {},
   "outputs": [
    {
     "data": {
      "text/plain": [
       "4911    0\n",
       "2298    1\n",
       "1694    1\n",
       "3974    1\n",
       "2435    1\n",
       "       ..\n",
       "3950    1\n",
       "4086    0\n",
       "4207    0\n",
       "3459    0\n",
       "2279    0\n",
       "Name: label, Length: 4000, dtype: int64"
      ]
     },
     "execution_count": 44,
     "metadata": {},
     "output_type": "execute_result"
    }
   ],
   "source": [
    "y_train"
   ]
  },
  {
   "cell_type": "code",
   "execution_count": 45,
   "id": "8eedd3e5-1e68-45b0-873b-53fc51745cc8",
   "metadata": {},
   "outputs": [
    {
     "data": {
      "text/plain": [
       "3599    1\n",
       "1054    0\n",
       "3449    0\n",
       "2846    0\n",
       "3310    0\n",
       "       ..\n",
       "4504    0\n",
       "1112    0\n",
       "3575    0\n",
       "1000    1\n",
       "4512    0\n",
       "Name: label, Length: 1000, dtype: int64"
      ]
     },
     "execution_count": 45,
     "metadata": {},
     "output_type": "execute_result"
    }
   ],
   "source": [
    "y_test"
   ]
  },
  {
   "cell_type": "markdown",
   "id": "8a7a6570-fb74-4620-851b-6039f899fee0",
   "metadata": {},
   "source": [
    "### Vectorization\n"
   ]
  },
  {
   "cell_type": "code",
   "execution_count": 46,
   "id": "5e4eb551-0082-4f3f-978d-76001ed2c8df",
   "metadata": {},
   "outputs": [],
   "source": [
    "def vectorizer(ds, vocabulary):\n",
    "    vectorized_lst = []\n",
    "    \n",
    "    for sentence in ds:\n",
    "        sentence_lst = np.zeros(len(vocabulary))\n",
    "        \n",
    "        for i in range(len(vocabulary)):\n",
    "            if vocabulary[i] in sentence.split():\n",
    "                sentence_lst[i] = 1\n",
    "                \n",
    "        vectorized_lst.append(sentence_lst)\n",
    "        \n",
    "    vectorized_lst_new = np.asarray(vectorized_lst, dtype=np.float32)\n",
    "    \n",
    "    return vectorized_lst_new"
   ]
  },
  {
   "cell_type": "code",
   "execution_count": 47,
   "id": "18656794-82b5-4413-aea8-7c48b30e9f0e",
   "metadata": {},
   "outputs": [],
   "source": [
    "vectorized_x_train = vectorizer(X_train, tokens)"
   ]
  },
  {
   "cell_type": "code",
   "execution_count": 48,
   "id": "ce50ab68-0f98-48ea-a834-4ced39a06c28",
   "metadata": {},
   "outputs": [],
   "source": [
    "vectorized_x_test = vectorizer(X_test, tokens)"
   ]
  },
  {
   "cell_type": "code",
   "execution_count": 49,
   "id": "4d734bd4-b630-4db2-927b-9e8890eed5dc",
   "metadata": {},
   "outputs": [
    {
     "data": {
      "text/plain": [
       "array([[1., 1., 1., ..., 0., 0., 0.],\n",
       "       [0., 0., 0., ..., 0., 0., 0.],\n",
       "       [0., 0., 0., ..., 0., 0., 0.],\n",
       "       ...,\n",
       "       [0., 0., 0., ..., 0., 0., 0.],\n",
       "       [0., 0., 0., ..., 0., 0., 0.],\n",
       "       [0., 0., 0., ..., 0., 0., 0.]], shape=(4000, 152), dtype=float32)"
      ]
     },
     "execution_count": 49,
     "metadata": {},
     "output_type": "execute_result"
    }
   ],
   "source": [
    "vectorized_x_train"
   ]
  },
  {
   "cell_type": "code",
   "execution_count": 50,
   "id": "8f4792f4-7e57-4fbc-b7a5-a9eb86e9056d",
   "metadata": {},
   "outputs": [
    {
     "data": {
      "text/plain": [
       "4911    0\n",
       "2298    1\n",
       "1694    1\n",
       "3974    1\n",
       "2435    1\n",
       "       ..\n",
       "3950    1\n",
       "4086    0\n",
       "4207    0\n",
       "3459    0\n",
       "2279    0\n",
       "Name: label, Length: 4000, dtype: int64"
      ]
     },
     "execution_count": 50,
     "metadata": {},
     "output_type": "execute_result"
    }
   ],
   "source": [
    "y_train"
   ]
  },
  {
   "cell_type": "code",
   "execution_count": 51,
   "id": "b9d2d1bc-f727-4acc-abca-0b1127da55e5",
   "metadata": {},
   "outputs": [
    {
     "data": {
      "text/plain": [
       "array([[0., 0., 0., ..., 0., 0., 0.],\n",
       "       [0., 0., 0., ..., 0., 0., 0.],\n",
       "       [0., 0., 0., ..., 0., 0., 0.],\n",
       "       ...,\n",
       "       [0., 0., 0., ..., 0., 0., 0.],\n",
       "       [0., 0., 0., ..., 0., 0., 0.],\n",
       "       [0., 0., 0., ..., 0., 0., 0.]], shape=(1000, 152), dtype=float32)"
      ]
     },
     "execution_count": 51,
     "metadata": {},
     "output_type": "execute_result"
    }
   ],
   "source": [
    "vectorized_x_test"
   ]
  },
  {
   "cell_type": "code",
   "execution_count": 52,
   "id": "64127900-1534-4201-8fa8-f34e3ec16ec6",
   "metadata": {},
   "outputs": [
    {
     "data": {
      "text/plain": [
       "3599    1\n",
       "1054    0\n",
       "3449    0\n",
       "2846    0\n",
       "3310    0\n",
       "       ..\n",
       "4504    0\n",
       "1112    0\n",
       "3575    0\n",
       "1000    1\n",
       "4512    0\n",
       "Name: label, Length: 1000, dtype: int64"
      ]
     },
     "execution_count": 52,
     "metadata": {},
     "output_type": "execute_result"
    }
   ],
   "source": [
    "y_test"
   ]
  },
  {
   "cell_type": "code",
   "execution_count": 53,
   "id": "d014904e-2820-443a-b3a7-b8f49b526bb1",
   "metadata": {},
   "outputs": [
    {
     "data": {
      "text/plain": [
       "label\n",
       "0    2391\n",
       "1    1609\n",
       "Name: count, dtype: int64"
      ]
     },
     "execution_count": 53,
     "metadata": {},
     "output_type": "execute_result"
    }
   ],
   "source": [
    "y_train.value_counts()"
   ]
  },
  {
   "cell_type": "code",
   "execution_count": 54,
   "id": "a41efd0e-5230-40c7-bf1b-a3f34f2674d2",
   "metadata": {},
   "outputs": [
    {
     "data": {
      "image/png": "[encoded data removed]",
      "text/plain": [
       "<Figure size 640x480 with 1 Axes>"
      ]
     },
     "metadata": {},
     "output_type": "display_data"
    }
   ],
   "source": [
    "plt.pie(np.array([y_train.value_counts()[0], y_train.value_counts()[1]]), labels=['Real', 'Fake'])\n",
    "plt.show()"
   ]
  },
  {
   "cell_type": "markdown",
   "id": "cbee313d-2912-45fc-80c1-fd4017f66c28",
   "metadata": {},
   "source": [
    "### Handle imbalanced dataset\n"
   ]
  },
  {
   "cell_type": "code",
   "execution_count": 55,
   "id": "842c5d3c-e9fe-4d71-87ec-f9d6f659b8cc",
   "metadata": {},
   "outputs": [
    {
     "name": "stdout",
     "output_type": "stream",
     "text": [
      "Requirement already satisfied: imbalanced-learn in c:\\users\\shashira\\desktop\\reviewguard_finalproject\\env\\lib\\site-packages (0.13.0)\n",
      "Requirement already satisfied: numpy<3,>=1.24.3 in c:\\users\\shashira\\desktop\\reviewguard_finalproject\\env\\lib\\site-packages (from imbalanced-learn) (2.3.1)\n",
      "Requirement already satisfied: scipy<2,>=1.10.1 in c:\\users\\shashira\\desktop\\reviewguard_finalproject\\env\\lib\\site-packages (from imbalanced-learn) (1.16.0)\n",
      "Requirement already satisfied: scikit-learn<2,>=1.3.2 in c:\\users\\shashira\\desktop\\reviewguard_finalproject\\env\\lib\\site-packages (from imbalanced-learn) (1.6.1)\n",
      "Requirement already satisfied: sklearn-compat<1,>=0.1 in c:\\users\\shashira\\desktop\\reviewguard_finalproject\\env\\lib\\site-packages (from imbalanced-learn) (0.1.3)\n",
      "Requirement already satisfied: joblib<2,>=1.1.1 in c:\\users\\shashira\\desktop\\reviewguard_finalproject\\env\\lib\\site-packages (from imbalanced-learn) (1.5.1)\n",
      "Requirement already satisfied: threadpoolctl<4,>=2.0.0 in c:\\users\\shashira\\desktop\\reviewguard_finalproject\\env\\lib\\site-packages (from imbalanced-learn) (3.6.0)\n"
     ]
    },
    {
     "name": "stderr",
     "output_type": "stream",
     "text": [
      "\n",
      "[notice] A new release of pip is available: 25.1.1 -> 25.2\n",
      "[notice] To update, run: python.exe -m pip install --upgrade pip\n"
     ]
    }
   ],
   "source": [
    "!pip install imbalanced-learn"
   ]
  },
  {
   "cell_type": "code",
   "execution_count": 56,
   "id": "67bc8d82-f61d-4f70-a12a-21ea807fde00",
   "metadata": {},
   "outputs": [
    {
     "name": "stdout",
     "output_type": "stream",
     "text": [
      "(4782, 152) (4782,)\n"
     ]
    }
   ],
   "source": [
    "from imblearn.over_sampling import SMOTE\n",
    "smote = SMOTE()\n",
    "vectorized_x_train_smote, y_train_smote = smote.fit_resample(vectorized_x_train, y_train)\n",
    "print(vectorized_x_train_smote.shape, y_train_smote.shape)"
   ]
  },
  {
   "cell_type": "code",
   "execution_count": 57,
   "id": "27be2662-968c-4645-b4da-f1ddbd08349a",
   "metadata": {},
   "outputs": [
    {
     "data": {
      "text/plain": [
       "label\n",
       "0    2391\n",
       "1    2391\n",
       "Name: count, dtype: int64"
      ]
     },
     "execution_count": 57,
     "metadata": {},
     "output_type": "execute_result"
    }
   ],
   "source": [
    "y_train_smote.value_counts()\n"
   ]
  },
  {
   "cell_type": "code",
   "execution_count": 58,
   "id": "0220f2a3-9b3f-460c-b2f3-54db6d395b2c",
   "metadata": {},
   "outputs": [
    {
     "data": {
      "image/png": "[encoded data removed]",
      "text/plain": [
       "<Figure size 640x480 with 1 Axes>"
      ]
     },
     "metadata": {},
     "output_type": "display_data"
    }
   ],
   "source": [
    "plt.pie(np.array([y_train_smote.value_counts()[0], y_train_smote.value_counts()[1]]), labels=['Real', 'Fake'])\n",
    "plt.show()"
   ]
  },
  {
   "cell_type": "code",
   "execution_count": 59,
   "id": "73aacb73-a743-460a-8648-0d4d90668bfd",
   "metadata": {},
   "outputs": [
    {
     "data": {
      "text/plain": [
       "array([[1., 1., 1., ..., 0., 0., 0.],\n",
       "       [0., 0., 0., ..., 0., 0., 0.],\n",
       "       [0., 0., 0., ..., 0., 0., 0.],\n",
       "       ...,\n",
       "       [0., 0., 0., ..., 0., 0., 0.],\n",
       "       [0., 0., 0., ..., 0., 0., 0.],\n",
       "       [0., 0., 0., ..., 1., 0., 0.]], shape=(4782, 152), dtype=float32)"
      ]
     },
     "execution_count": 59,
     "metadata": {},
     "output_type": "execute_result"
    }
   ],
   "source": [
    "vectorized_x_train_smote"
   ]
  },
  {
   "cell_type": "code",
   "execution_count": 60,
   "id": "3042a736-3d82-4050-9bdd-ee766f9c3018",
   "metadata": {},
   "outputs": [
    {
     "data": {
      "text/plain": [
       "0       0\n",
       "1       1\n",
       "2       1\n",
       "3       1\n",
       "4       1\n",
       "       ..\n",
       "4777    1\n",
       "4778    1\n",
       "4779    1\n",
       "4780    1\n",
       "4781    1\n",
       "Name: label, Length: 4782, dtype: int64"
      ]
     },
     "execution_count": 60,
     "metadata": {},
     "output_type": "execute_result"
    }
   ],
   "source": [
    "y_train_smote\n"
   ]
  },
  {
   "cell_type": "code",
   "execution_count": 61,
   "id": "13cf94bc-248e-426a-9cff-1281cf9d400c",
   "metadata": {},
   "outputs": [
    {
     "data": {
      "text/plain": [
       "array([[0., 0., 0., ..., 0., 0., 0.],\n",
       "       [0., 0., 0., ..., 0., 0., 0.],\n",
       "       [0., 0., 0., ..., 0., 0., 0.],\n",
       "       ...,\n",
       "       [0., 0., 0., ..., 0., 0., 0.],\n",
       "       [0., 0., 0., ..., 0., 0., 0.],\n",
       "       [0., 0., 0., ..., 0., 0., 0.]], shape=(1000, 152), dtype=float32)"
      ]
     },
     "execution_count": 61,
     "metadata": {},
     "output_type": "execute_result"
    }
   ],
   "source": [
    "vectorized_x_test"
   ]
  },
  {
   "cell_type": "code",
   "execution_count": 62,
   "id": "5f9d9a9d-f98e-4b7b-81cc-4087da8773fa",
   "metadata": {},
   "outputs": [
    {
     "data": {
      "text/plain": [
       "3599    1\n",
       "1054    0\n",
       "3449    0\n",
       "2846    0\n",
       "3310    0\n",
       "       ..\n",
       "4504    0\n",
       "1112    0\n",
       "3575    0\n",
       "1000    1\n",
       "4512    0\n",
       "Name: label, Length: 1000, dtype: int64"
      ]
     },
     "execution_count": 62,
     "metadata": {},
     "output_type": "execute_result"
    }
   ],
   "source": [
    "y_test"
   ]
  },
  {
   "cell_type": "markdown",
   "id": "eb81edd2-151c-475f-80ba-d5f2ee2f4295",
   "metadata": {},
   "source": [
    "## Model Training and Evaluation\n"
   ]
  },
  {
   "cell_type": "code",
   "execution_count": 63,
   "id": "2a2b23f4-196b-43ad-878f-bb62f0c968c0",
   "metadata": {},
   "outputs": [],
   "source": [
    "from sklearn.linear_model import LogisticRegression\n",
    "from sklearn.naive_bayes import MultinomialNB\n",
    "from sklearn.tree import DecisionTreeClassifier\n",
    "from sklearn.ensemble import RandomForestClassifier\n",
    "from sklearn.svm import SVC"
   ]
  },
  {
   "cell_type": "code",
   "execution_count": 65,
   "id": "de58e445-a7ea-44ed-916f-ffa98eb75345",
   "metadata": {},
   "outputs": [],
   "source": [
    "from sklearn.metrics import accuracy_score, f1_score, precision_score, recall_score\n",
    "\n",
    "def training_scores(y_act, y_pred):\n",
    "    acc = round(accuracy_score(y_act, y_pred), 3)\n",
    "    pr = round(precision_score(y_act, y_pred), 3)\n",
    "    rec = round(recall_score(y_act, y_pred), 3)\n",
    "    f1 = round(f1_score(y_act, y_pred), 3)\n",
    "    print(f'Training Scores:\\n\\tAccuracy = {acc}\\n\\tPrecision = {pr}\\n\\tRecall = {rec}\\n\\tF1-Score = {f1}')\n",
    "    \n",
    "def validation_scores(y_act, y_pred):\n",
    "    acc = round(accuracy_score(y_act, y_pred), 3)\n",
    "    pr = round(precision_score(y_act, y_pred), 3)\n",
    "    rec = round(recall_score(y_act, y_pred), 3)\n",
    "    f1 = round(f1_score(y_act, y_pred), 3)\n",
    "    print(f'Testing Scores:\\n\\tAccuracy = {acc}\\n\\tPrecision = {pr}\\n\\tRecall = {rec}\\n\\tF1-Score = {f1}')"
   ]
  },
  {
   "cell_type": "markdown",
   "id": "746046bd-313b-4c9e-b646-5835a694d3e8",
   "metadata": {},
   "source": [
    "### Logistic Regression\n"
   ]
  },
  {
   "cell_type": "code",
   "execution_count": 68,
   "id": "b6b4499c-8f20-4fc2-824c-4334ed5c7550",
   "metadata": {},
   "outputs": [
    {
     "name": "stdout",
     "output_type": "stream",
     "text": [
      "Training Scores:\n",
      "\tAccuracy = 1.0\n",
      "\tPrecision = 1.0\n",
      "\tRecall = 1.0\n",
      "\tF1-Score = 1.0\n",
      "Testing Scores:\n",
      "\tAccuracy = 1.0\n",
      "\tPrecision = 1.0\n",
      "\tRecall = 1.0\n",
      "\tF1-Score = 1.0\n"
     ]
    }
   ],
   "source": [
    "lr = LogisticRegression()\n",
    "lr.fit(vectorized_x_train_smote, y_train_smote)\n",
    "\n",
    "y_train_pred = lr.predict(vectorized_x_train_smote)\n",
    "\n",
    "y_test_pred = lr.predict(vectorized_x_test)\n",
    "\n",
    "training_scores(y_train_smote, y_train_pred)\n",
    "\n",
    "validation_scores(y_test, y_test_pred)"
   ]
  },
  {
   "cell_type": "markdown",
   "id": "2fa8d6ba-e9c3-42ee-b770-b6ec7f609b4e",
   "metadata": {},
   "source": [
    "### Naive Bayes\n"
   ]
  },
  {
   "cell_type": "code",
   "execution_count": 69,
   "id": "13b63c0a-6505-454f-9f4c-ea43f6c8ef2d",
   "metadata": {},
   "outputs": [
    {
     "name": "stdout",
     "output_type": "stream",
     "text": [
      "Training Scores:\n",
      "\tAccuracy = 0.926\n",
      "\tPrecision = 0.973\n",
      "\tRecall = 0.876\n",
      "\tF1-Score = 0.922\n",
      "Testing Scores:\n",
      "\tAccuracy = 0.944\n",
      "\tPrecision = 0.964\n",
      "\tRecall = 0.89\n",
      "\tF1-Score = 0.926\n"
     ]
    }
   ],
   "source": [
    "mnb = MultinomialNB()\n",
    "mnb.fit(vectorized_x_train_smote, y_train_smote)\n",
    "\n",
    "y_train_pred = mnb.predict(vectorized_x_train_smote)\n",
    "\n",
    "y_test_pred = mnb.predict(vectorized_x_test)\n",
    "\n",
    "training_scores(y_train_smote, y_train_pred)\n",
    "\n",
    "validation_scores(y_test, y_test_pred)"
   ]
  },
  {
   "cell_type": "markdown",
   "id": "55fd3a8c-e17a-4756-b3ef-1ca01eb1e01e",
   "metadata": {},
   "source": [
    "### Decision Tree\n"
   ]
  },
  {
   "cell_type": "code",
   "execution_count": 70,
   "id": "2b06c937-4612-4db2-be0e-c152d08ee087",
   "metadata": {},
   "outputs": [
    {
     "name": "stdout",
     "output_type": "stream",
     "text": [
      "Training Scores:\n",
      "\tAccuracy = 1.0\n",
      "\tPrecision = 1.0\n",
      "\tRecall = 1.0\n",
      "\tF1-Score = 1.0\n",
      "Testing Scores:\n",
      "\tAccuracy = 1.0\n",
      "\tPrecision = 1.0\n",
      "\tRecall = 1.0\n",
      "\tF1-Score = 1.0\n"
     ]
    }
   ],
   "source": [
    "dt = DecisionTreeClassifier()\n",
    "\n",
    "dt.fit(vectorized_x_train_smote, y_train_smote)\n",
    "\n",
    "y_train_pred = dt.predict(vectorized_x_train_smote)\n",
    "\n",
    "y_test_pred = dt.predict(vectorized_x_test)\n",
    "\n",
    "training_scores(y_train_smote, y_train_pred)\n",
    "\n",
    "validation_scores(y_test, y_test_pred)"
   ]
  },
  {
   "cell_type": "markdown",
   "id": "64e23e7b-09be-4c92-9804-08177ed7bf10",
   "metadata": {},
   "source": [
    "### Random Forest\n"
   ]
  },
  {
   "cell_type": "code",
   "execution_count": 74,
   "id": "f7bbf606-30db-4ffe-91f6-5736dd25b1bd",
   "metadata": {},
   "outputs": [
    {
     "name": "stdout",
     "output_type": "stream",
     "text": [
      "Training Scores:\n",
      "\tAccuracy = 1.0\n",
      "\tPrecision = 1.0\n",
      "\tRecall = 1.0\n",
      "\tF1-Score = 1.0\n",
      "Testing Scores:\n",
      "\tAccuracy = 1.0\n",
      "\tPrecision = 1.0\n",
      "\tRecall = 1.0\n",
      "\tF1-Score = 1.0\n"
     ]
    }
   ],
   "source": [
    "rf = RandomForestClassifier()\n",
    "\n",
    "rf.fit(vectorized_x_train_smote, y_train_smote)\n",
    "\n",
    "y_train_pred = rf.predict(vectorized_x_train_smote)\n",
    "\n",
    "y_test_pred = rf.predict(vectorized_x_test)\n",
    "\n",
    "training_scores(y_train_smote, y_train_pred)\n",
    "\n",
    "validation_scores(y_test, y_test_pred)"
   ]
  },
  {
   "cell_type": "markdown",
   "id": "45d115b9-2d99-478b-a857-7cb4ec476da1",
   "metadata": {},
   "source": [
    "### Support Vector Machine\n"
   ]
  },
  {
   "cell_type": "code",
   "execution_count": 75,
   "id": "75f08f41-5b99-4154-9a05-5a6a160687f9",
   "metadata": {},
   "outputs": [
    {
     "name": "stdout",
     "output_type": "stream",
     "text": [
      "Training Scores:\n",
      "\tAccuracy = 1.0\n",
      "\tPrecision = 1.0\n",
      "\tRecall = 1.0\n",
      "\tF1-Score = 1.0\n",
      "Testing Scores:\n",
      "\tAccuracy = 1.0\n",
      "\tPrecision = 1.0\n",
      "\tRecall = 1.0\n",
      "\tF1-Score = 1.0\n"
     ]
    }
   ],
   "source": [
    "svm = SVC()\n",
    "\n",
    "svm.fit(vectorized_x_train_smote, y_train_smote)\n",
    "\n",
    "y_train_pred = svm.predict(vectorized_x_train_smote)\n",
    "\n",
    "y_test_pred = svm.predict(vectorized_x_test)\n",
    "\n",
    "training_scores(y_train_smote, y_train_pred)\n",
    "\n",
    "validation_scores(y_test, y_test_pred)"
   ]
  },
  {
   "cell_type": "code",
   "execution_count": 77,
   "id": "8278915b-5fee-425d-9c0f-4b4013877f06",
   "metadata": {},
   "outputs": [],
   "source": [
    "import pickle\n",
    "\n",
    "with open('../static/model/model.pickle', 'wb') as file:\n",
    "    pickle.dump(mnb, file)"
   ]
  },
  {
   "cell_type": "code",
   "execution_count": null,
   "id": "5f197446-ba4c-4de0-875d-f8610c517d94",
   "metadata": {},
   "outputs": [],
   "source": []
  }
 ],
 "metadata": {
  "kernelspec": {
   "display_name": "Python 3 (ipykernel)",
   "language": "python",
   "name": "python3"
  },
  "language_info": {
   "codemirror_mode": {
    "name": "ipython",
    "version": 3
   },
   "file_extension": ".py",
   "mimetype": "text/x-python",
   "name": "python",
   "nbconvert_exporter": "python",
   "pygments_lexer": "ipython3",
   "version": "3.12.4"
  }
 },
 "nbformat": 4,
 "nbformat_minor": 5
}
