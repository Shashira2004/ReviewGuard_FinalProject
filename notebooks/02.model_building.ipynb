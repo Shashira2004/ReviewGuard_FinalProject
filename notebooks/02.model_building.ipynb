{
 "cells": [
  {
   "cell_type": "code",
   "execution_count": 1,
   "id": "923e2525-aa25-4125-a220-bd8bc91d8c40",
   "metadata": {},
   "outputs": [],
   "source": [
    "import numpy as np\n",
    "import pandas as pd\n",
    "import matplotlib.pyplot as plt"
   ]
  },
  {
   "cell_type": "code",
   "execution_count": 2,
   "id": "747cf8dc-601f-4f83-945e-8910fb2ee721",
   "metadata": {},
   "outputs": [],
   "source": [
    "data = pd.read_csv('../artifacts/fake_reviews_dataset.csv')\n"
   ]
  },
  {
   "cell_type": "code",
   "execution_count": 3,
   "id": "b976e30f-897e-46d5-9830-cd5a269ccf38",
   "metadata": {},
   "outputs": [
    {
     "data": {
      "text/html": [
       "<div>\n",
       "<style scoped>\n",
       "    .dataframe tbody tr th:only-of-type {\n",
       "        vertical-align: middle;\n",
       "    }\n",
       "\n",
       "    .dataframe tbody tr th {\n",
       "        vertical-align: top;\n",
       "    }\n",
       "\n",
       "    .dataframe thead th {\n",
       "        text-align: right;\n",
       "    }\n",
       "</style>\n",
       "<table border=\"1\" class=\"dataframe\">\n",
       "  <thead>\n",
       "    <tr style=\"text-align: right;\">\n",
       "      <th></th>\n",
       "      <th>category</th>\n",
       "      <th>rating</th>\n",
       "      <th>text</th>\n",
       "      <th>label</th>\n",
       "    </tr>\n",
       "  </thead>\n",
       "  <tbody>\n",
       "    <tr>\n",
       "      <th>0</th>\n",
       "      <td>Home_and_Kitchen</td>\n",
       "      <td>5.0</td>\n",
       "      <td>Love this!  Well made, sturdy, and very comfor...</td>\n",
       "      <td>1</td>\n",
       "    </tr>\n",
       "    <tr>\n",
       "      <th>1</th>\n",
       "      <td>Home_and_Kitchen</td>\n",
       "      <td>5.0</td>\n",
       "      <td>love it, a great upgrade from the original.  I...</td>\n",
       "      <td>1</td>\n",
       "    </tr>\n",
       "    <tr>\n",
       "      <th>2</th>\n",
       "      <td>Home_and_Kitchen</td>\n",
       "      <td>5.0</td>\n",
       "      <td>This pillow saved my back. I love the look and...</td>\n",
       "      <td>1</td>\n",
       "    </tr>\n",
       "    <tr>\n",
       "      <th>3</th>\n",
       "      <td>Home_and_Kitchen</td>\n",
       "      <td>1.0</td>\n",
       "      <td>Missing information on how to use it, but it i...</td>\n",
       "      <td>1</td>\n",
       "    </tr>\n",
       "    <tr>\n",
       "      <th>4</th>\n",
       "      <td>Home_and_Kitchen</td>\n",
       "      <td>5.0</td>\n",
       "      <td>Very nice set. Good quality. We have had the s...</td>\n",
       "      <td>1</td>\n",
       "    </tr>\n",
       "  </tbody>\n",
       "</table>\n",
       "</div>"
      ],
      "text/plain": [
       "           category  rating  \\\n",
       "0  Home_and_Kitchen     5.0   \n",
       "1  Home_and_Kitchen     5.0   \n",
       "2  Home_and_Kitchen     5.0   \n",
       "3  Home_and_Kitchen     1.0   \n",
       "4  Home_and_Kitchen     5.0   \n",
       "\n",
       "                                                text  label  \n",
       "0  Love this!  Well made, sturdy, and very comfor...      1  \n",
       "1  love it, a great upgrade from the original.  I...      1  \n",
       "2  This pillow saved my back. I love the look and...      1  \n",
       "3  Missing information on how to use it, but it i...      1  \n",
       "4  Very nice set. Good quality. We have had the s...      1  "
      ]
     },
     "execution_count": 3,
     "metadata": {},
     "output_type": "execute_result"
    }
   ],
   "source": [
    "data.head()\n"
   ]
  },
  {
   "cell_type": "markdown",
   "id": "c93b36d8-feea-4efd-b28f-0f17b1616660",
   "metadata": {},
   "source": [
    "### Data Preprocessing\n"
   ]
  },
  {
   "cell_type": "code",
   "execution_count": 4,
   "id": "aba6778a-2c53-4891-a4c5-2222fb1ebd4f",
   "metadata": {},
   "outputs": [
    {
     "data": {
      "text/plain": [
       "(40526, 4)"
      ]
     },
     "execution_count": 4,
     "metadata": {},
     "output_type": "execute_result"
    }
   ],
   "source": [
    "data.shape\n"
   ]
  },
  {
   "cell_type": "code",
   "execution_count": 5,
   "id": "ac9e3ef6-4ec6-4308-aa92-e8a5c1d5a298",
   "metadata": {},
   "outputs": [
    {
     "data": {
      "text/plain": [
       "np.int64(25)"
      ]
     },
     "execution_count": 5,
     "metadata": {},
     "output_type": "execute_result"
    }
   ],
   "source": [
    "data.duplicated().sum()\n"
   ]
  },
  {
   "cell_type": "code",
   "execution_count": 6,
   "id": "58ce4ef1-1743-4c44-8a8e-af4e4b279663",
   "metadata": {},
   "outputs": [
    {
     "data": {
      "text/plain": [
       "category    0\n",
       "rating      0\n",
       "text        0\n",
       "label       0\n",
       "dtype: int64"
      ]
     },
     "execution_count": 6,
     "metadata": {},
     "output_type": "execute_result"
    }
   ],
   "source": [
    "data.isnull().sum()\n"
   ]
  },
  {
   "cell_type": "markdown",
   "id": "70b12a63-ceaa-4077-90b0-adf3d7cf6801",
   "metadata": {},
   "source": [
    "### Text Preprocessing\n"
   ]
  },
  {
   "cell_type": "code",
   "execution_count": 7,
   "id": "dfe5fbab-bd44-4ed1-adb6-e3e0a94f2501",
   "metadata": {},
   "outputs": [],
   "source": [
    "import re\n",
    "import string"
   ]
  },
  {
   "cell_type": "code",
   "execution_count": 8,
   "id": "4c8e57d1-df13-465e-9df5-540fb7fd496c",
   "metadata": {},
   "outputs": [
    {
     "data": {
      "text/plain": [
       "0    Love this!  Well made, sturdy, and very comfor...\n",
       "1    love it, a great upgrade from the original.  I...\n",
       "2    This pillow saved my back. I love the look and...\n",
       "3    Missing information on how to use it, but it i...\n",
       "4    Very nice set. Good quality. We have had the s...\n",
       "Name: text, dtype: object"
      ]
     },
     "execution_count": 8,
     "metadata": {},
     "output_type": "execute_result"
    }
   ],
   "source": [
    "data[\"text\"].head(5)\n"
   ]
  },
  {
   "cell_type": "code",
   "execution_count": 9,
   "id": "263b4f59-bc2c-4a28-8391-964a24c7d789",
   "metadata": {},
   "outputs": [],
   "source": [
    "data[\"text\"] = data[\"text\"].apply(lambda x: \" \".join(x.lower() for x in x.split()))\n"
   ]
  },
  {
   "cell_type": "code",
   "execution_count": 10,
   "id": "e59fd2e1-d715-417b-8dd8-48255374cd06",
   "metadata": {},
   "outputs": [
    {
     "data": {
      "text/plain": [
       "0    love this! well made, sturdy, and very comfort...\n",
       "1    love it, a great upgrade from the original. i'...\n",
       "2    this pillow saved my back. i love the look and...\n",
       "3    missing information on how to use it, but it i...\n",
       "4    very nice set. good quality. we have had the s...\n",
       "Name: text, dtype: object"
      ]
     },
     "execution_count": 10,
     "metadata": {},
     "output_type": "execute_result"
    }
   ],
   "source": [
    "data[\"text\"].head(5)\n"
   ]
  },
  {
   "cell_type": "markdown",
   "id": "2b69ca3e-f2b6-46f5-a02b-2fca1f537e7e",
   "metadata": {},
   "source": [
    "### remove links\n",
    "\n"
   ]
  },
  {
   "cell_type": "code",
   "execution_count": 11,
   "id": "e9bb2c19-e19d-46ee-82ed-fa6b90ce9116",
   "metadata": {},
   "outputs": [],
   "source": [
    "data[\"text\"] = data['text'].apply(lambda x: \" \".join(re.sub(r'^https?:\\/\\/.*[\\r\\n]*', '', x, flags=re.MULTILINE) for x in x.split()))\n"
   ]
  },
  {
   "cell_type": "code",
   "execution_count": 12,
   "id": "b7fb9014-c851-4306-9b32-e96a6d4322d4",
   "metadata": {},
   "outputs": [
    {
     "data": {
      "text/plain": [
       "0    love this! well made, sturdy, and very comfort...\n",
       "1    love it, a great upgrade from the original. i'...\n",
       "2    this pillow saved my back. i love the look and...\n",
       "3    missing information on how to use it, but it i...\n",
       "4    very nice set. good quality. we have had the s...\n",
       "Name: text, dtype: object"
      ]
     },
     "execution_count": 12,
     "metadata": {},
     "output_type": "execute_result"
    }
   ],
   "source": [
    "data[\"text\"].head(5)\n"
   ]
  },
  {
   "cell_type": "markdown",
   "id": "67117058-4031-4617-a585-bb7e778bb7ef",
   "metadata": {},
   "source": [
    "### Remove punctuations\n",
    "\n"
   ]
  },
  {
   "cell_type": "code",
   "execution_count": 13,
   "id": "1fe75ef3-d5d5-4a05-8d4e-6c534f67c167",
   "metadata": {},
   "outputs": [
    {
     "data": {
      "text/plain": [
       "'!\"#$%&\\'()*+,-./:;<=>?@[\\\\]^_`{|}~'"
      ]
     },
     "execution_count": 13,
     "metadata": {},
     "output_type": "execute_result"
    }
   ],
   "source": [
    "string.punctuation\n"
   ]
  },
  {
   "cell_type": "code",
   "execution_count": 14,
   "id": "75b655f7-1dce-434b-a44a-5839d9456b5d",
   "metadata": {},
   "outputs": [],
   "source": [
    "def remove_punctuations(text):\n",
    "    for punctuation in string.punctuation:\n",
    "        text = text.replace(punctuation, '')\n",
    "    return text\n",
    "\n",
    "data[\"text\"] = data[\"text\"].apply(remove_punctuations)"
   ]
  },
  {
   "cell_type": "code",
   "execution_count": 15,
   "id": "6a4afb4f-ba1d-44cd-804a-686bc998ac2b",
   "metadata": {},
   "outputs": [
    {
     "data": {
      "text/plain": [
       "40516    the printer jams frequently based on my analys...\n",
       "40517    the refrigerator is spacious and energyefficie...\n",
       "40518    the blender works well but is quite loud as a ...\n",
       "40519    the novel is boring and predictable an ai syst...\n",
       "40520    the educational toy is excellent for learning ...\n",
       "40521    the shampoo has a pleasant scent and cleans we...\n",
       "40522    the jacket is stylish but not very warm as per...\n",
       "40523    the running shoes provide excellent support an...\n",
       "40524    the pasta cooks perfectly every time according...\n",
       "40525    the car freshener has a strong scent as per a ...\n",
       "Name: text, dtype: object"
      ]
     },
     "execution_count": 15,
     "metadata": {},
     "output_type": "execute_result"
    }
   ],
   "source": [
    "data[\"text\"].tail(10)\n"
   ]
  },
  {
   "cell_type": "markdown",
   "id": "2f3ac94e-25e0-42cd-908f-54c512a8ff9a",
   "metadata": {},
   "source": [
    "### remove numbers\n",
    "\n"
   ]
  },
  {
   "cell_type": "code",
   "execution_count": 16,
   "id": "28960044-a251-4ac6-8481-09a1b041c024",
   "metadata": {},
   "outputs": [],
   "source": [
    "data[\"text\"] = data['text'].str.replace(r'\\d+', '', regex=True)"
   ]
  },
  {
   "cell_type": "code",
   "execution_count": 17,
   "id": "7c9b1ea6-52ac-4e45-8b1d-0938319a140a",
   "metadata": {},
   "outputs": [
    {
     "data": {
      "text/plain": [
       "40516    the printer jams frequently based on my analys...\n",
       "40517    the refrigerator is spacious and energyefficie...\n",
       "40518    the blender works well but is quite loud as a ...\n",
       "40519    the novel is boring and predictable an ai syst...\n",
       "40520    the educational toy is excellent for learning ...\n",
       "40521    the shampoo has a pleasant scent and cleans we...\n",
       "40522    the jacket is stylish but not very warm as per...\n",
       "40523    the running shoes provide excellent support an...\n",
       "40524    the pasta cooks perfectly every time according...\n",
       "40525    the car freshener has a strong scent as per a ...\n",
       "Name: text, dtype: object"
      ]
     },
     "execution_count": 17,
     "metadata": {},
     "output_type": "execute_result"
    }
   ],
   "source": [
    "data[\"text\"].tail(10)\n"
   ]
  },
  {
   "cell_type": "markdown",
   "id": "f5b5d9a5-59fd-4f1e-bcf7-91bcfd927f76",
   "metadata": {},
   "source": [
    "### remove stopwords\n",
    "\n"
   ]
  },
  {
   "cell_type": "code",
   "execution_count": 18,
   "id": "fbe1eb59-ea92-468b-b19a-5691192e314e",
   "metadata": {},
   "outputs": [
    {
     "name": "stdout",
     "output_type": "stream",
     "text": [
      "Requirement already satisfied: nltk in c:\\users\\shashira\\desktop\\reviewguard_finalproject\\env\\lib\\site-packages (3.9.1)\n",
      "Requirement already satisfied: click in c:\\users\\shashira\\desktop\\reviewguard_finalproject\\env\\lib\\site-packages (from nltk) (8.2.1)\n",
      "Requirement already satisfied: joblib in c:\\users\\shashira\\desktop\\reviewguard_finalproject\\env\\lib\\site-packages (from nltk) (1.5.1)\n",
      "Requirement already satisfied: regex>=2021.8.3 in c:\\users\\shashira\\desktop\\reviewguard_finalproject\\env\\lib\\site-packages (from nltk) (2024.11.6)\n",
      "Requirement already satisfied: tqdm in c:\\users\\shashira\\desktop\\reviewguard_finalproject\\env\\lib\\site-packages (from nltk) (4.67.1)\n",
      "Requirement already satisfied: colorama in c:\\users\\shashira\\desktop\\reviewguard_finalproject\\env\\lib\\site-packages (from click->nltk) (0.4.6)\n"
     ]
    },
    {
     "name": "stderr",
     "output_type": "stream",
     "text": [
      "\n",
      "[notice] A new release of pip is available: 25.1.1 -> 25.2\n",
      "[notice] To update, run: python.exe -m pip install --upgrade pip\n"
     ]
    }
   ],
   "source": [
    "!pip install nltk\n"
   ]
  },
  {
   "cell_type": "code",
   "execution_count": 19,
   "id": "bc640eab-b36e-4989-81b1-ead640dabfc5",
   "metadata": {},
   "outputs": [],
   "source": [
    "import nltk\n"
   ]
  },
  {
   "cell_type": "code",
   "execution_count": 20,
   "id": "0c8ccc47-6f3f-4f70-b413-c09facd98c26",
   "metadata": {},
   "outputs": [
    {
     "name": "stderr",
     "output_type": "stream",
     "text": [
      "[nltk_data] Downloading package stopwords to ../static/model...\n",
      "[nltk_data]   Package stopwords is already up-to-date!\n"
     ]
    },
    {
     "data": {
      "text/plain": [
       "True"
      ]
     },
     "execution_count": 20,
     "metadata": {},
     "output_type": "execute_result"
    }
   ],
   "source": [
    "nltk.download('stopwords', download_dir='../static/model')\n"
   ]
  },
  {
   "cell_type": "code",
   "execution_count": 21,
   "id": "d6fd0b77-de90-46f1-8ca1-bb6c3b667671",
   "metadata": {},
   "outputs": [],
   "source": [
    "with open('../static/model/corpora/stopwords/english', 'r') as file:\n",
    "    sw = file.read().splitlines()"
   ]
  },
  {
   "cell_type": "code",
   "execution_count": 22,
   "id": "5ad96b21-d262-4ad6-8ac3-6472ea4fd627",
   "metadata": {},
   "outputs": [
    {
     "data": {
      "text/plain": [
       "['a',\n",
       " 'about',\n",
       " 'above',\n",
       " 'after',\n",
       " 'again',\n",
       " 'against',\n",
       " 'ain',\n",
       " 'all',\n",
       " 'am',\n",
       " 'an',\n",
       " 'and',\n",
       " 'any',\n",
       " 'are',\n",
       " 'aren',\n",
       " \"aren't\",\n",
       " 'as',\n",
       " 'at',\n",
       " 'be',\n",
       " 'because',\n",
       " 'been',\n",
       " 'before',\n",
       " 'being',\n",
       " 'below',\n",
       " 'between',\n",
       " 'both',\n",
       " 'but',\n",
       " 'by',\n",
       " 'can',\n",
       " 'couldn',\n",
       " \"couldn't\",\n",
       " 'd',\n",
       " 'did',\n",
       " 'didn',\n",
       " \"didn't\",\n",
       " 'do',\n",
       " 'does',\n",
       " 'doesn',\n",
       " \"doesn't\",\n",
       " 'doing',\n",
       " 'don',\n",
       " \"don't\",\n",
       " 'down',\n",
       " 'during',\n",
       " 'each',\n",
       " 'few',\n",
       " 'for',\n",
       " 'from',\n",
       " 'further',\n",
       " 'had',\n",
       " 'hadn',\n",
       " \"hadn't\",\n",
       " 'has',\n",
       " 'hasn',\n",
       " \"hasn't\",\n",
       " 'have',\n",
       " 'haven',\n",
       " \"haven't\",\n",
       " 'having',\n",
       " 'he',\n",
       " \"he'd\",\n",
       " \"he'll\",\n",
       " 'her',\n",
       " 'here',\n",
       " 'hers',\n",
       " 'herself',\n",
       " \"he's\",\n",
       " 'him',\n",
       " 'himself',\n",
       " 'his',\n",
       " 'how',\n",
       " 'i',\n",
       " \"i'd\",\n",
       " 'if',\n",
       " \"i'll\",\n",
       " \"i'm\",\n",
       " 'in',\n",
       " 'into',\n",
       " 'is',\n",
       " 'isn',\n",
       " \"isn't\",\n",
       " 'it',\n",
       " \"it'd\",\n",
       " \"it'll\",\n",
       " \"it's\",\n",
       " 'its',\n",
       " 'itself',\n",
       " \"i've\",\n",
       " 'just',\n",
       " 'll',\n",
       " 'm',\n",
       " 'ma',\n",
       " 'me',\n",
       " 'mightn',\n",
       " \"mightn't\",\n",
       " 'more',\n",
       " 'most',\n",
       " 'mustn',\n",
       " \"mustn't\",\n",
       " 'my',\n",
       " 'myself',\n",
       " 'needn',\n",
       " \"needn't\",\n",
       " 'no',\n",
       " 'nor',\n",
       " 'not',\n",
       " 'now',\n",
       " 'o',\n",
       " 'of',\n",
       " 'off',\n",
       " 'on',\n",
       " 'once',\n",
       " 'only',\n",
       " 'or',\n",
       " 'other',\n",
       " 'our',\n",
       " 'ours',\n",
       " 'ourselves',\n",
       " 'out',\n",
       " 'over',\n",
       " 'own',\n",
       " 're',\n",
       " 's',\n",
       " 'same',\n",
       " 'shan',\n",
       " \"shan't\",\n",
       " 'she',\n",
       " \"she'd\",\n",
       " \"she'll\",\n",
       " \"she's\",\n",
       " 'should',\n",
       " 'shouldn',\n",
       " \"shouldn't\",\n",
       " \"should've\",\n",
       " 'so',\n",
       " 'some',\n",
       " 'such',\n",
       " 't',\n",
       " 'than',\n",
       " 'that',\n",
       " \"that'll\",\n",
       " 'the',\n",
       " 'their',\n",
       " 'theirs',\n",
       " 'them',\n",
       " 'themselves',\n",
       " 'then',\n",
       " 'there',\n",
       " 'these',\n",
       " 'they',\n",
       " \"they'd\",\n",
       " \"they'll\",\n",
       " \"they're\",\n",
       " \"they've\",\n",
       " 'this',\n",
       " 'those',\n",
       " 'through',\n",
       " 'to',\n",
       " 'too',\n",
       " 'under',\n",
       " 'until',\n",
       " 'up',\n",
       " 've',\n",
       " 'very',\n",
       " 'was',\n",
       " 'wasn',\n",
       " \"wasn't\",\n",
       " 'we',\n",
       " \"we'd\",\n",
       " \"we'll\",\n",
       " \"we're\",\n",
       " 'were',\n",
       " 'weren',\n",
       " \"weren't\",\n",
       " \"we've\",\n",
       " 'what',\n",
       " 'when',\n",
       " 'where',\n",
       " 'which',\n",
       " 'while',\n",
       " 'who',\n",
       " 'whom',\n",
       " 'why',\n",
       " 'will',\n",
       " 'with',\n",
       " 'won',\n",
       " \"won't\",\n",
       " 'wouldn',\n",
       " \"wouldn't\",\n",
       " 'y',\n",
       " 'you',\n",
       " \"you'd\",\n",
       " \"you'll\",\n",
       " 'your',\n",
       " \"you're\",\n",
       " 'yours',\n",
       " 'yourself',\n",
       " 'yourselves',\n",
       " \"you've\"]"
      ]
     },
     "execution_count": 22,
     "metadata": {},
     "output_type": "execute_result"
    }
   ],
   "source": [
    "sw"
   ]
  },
  {
   "cell_type": "code",
   "execution_count": 23,
   "id": "6906e9b6-6c78-45ff-9141-5879631b40f3",
   "metadata": {},
   "outputs": [],
   "source": [
    "data[\"text\"] = data[\"text\"].apply(lambda x: \" \".join(x for x in x.split() if x not in sw))\n"
   ]
  },
  {
   "cell_type": "code",
   "execution_count": 24,
   "id": "e1b86ee2-9ea1-44c7-9434-ff741d344248",
   "metadata": {},
   "outputs": [
    {
     "data": {
      "text/plain": [
       "0    love well made sturdy comfortable love itvery ...\n",
       "1    love great upgrade original ive mine couple years\n",
       "2              pillow saved back love look feel pillow\n",
       "3          missing information use great product price\n",
       "4                 nice set good quality set two months\n",
       "Name: text, dtype: object"
      ]
     },
     "execution_count": 24,
     "metadata": {},
     "output_type": "execute_result"
    }
   ],
   "source": [
    "data[\"text\"].head()\n"
   ]
  },
  {
   "cell_type": "markdown",
   "id": "fd2d2837-474e-4a1c-ad05-50e152b4ca71",
   "metadata": {},
   "source": [
    "### Stemming"
   ]
  },
  {
   "cell_type": "code",
   "execution_count": 25,
   "id": "ffccf4da-31ec-4a40-8a6b-ee661b9e970f",
   "metadata": {},
   "outputs": [],
   "source": [
    "from nltk.stem import PorterStemmer\n",
    "ps = PorterStemmer()"
   ]
  },
  {
   "cell_type": "code",
   "execution_count": 26,
   "id": "833e9e36-6c1e-4989-bf68-e6ddbd3e2837",
   "metadata": {},
   "outputs": [],
   "source": [
    "data[\"text\"] = data[\"text\"].apply(lambda x: \" \".join(ps.stem(x) for x in x.split()))\n"
   ]
  },
  {
   "cell_type": "code",
   "execution_count": 27,
   "id": "4046958e-45f0-48d1-97b9-b5e57f0dab60",
   "metadata": {},
   "outputs": [
    {
     "data": {
      "text/plain": [
       "0    love well made sturdi comfort love itveri pretti\n",
       "1        love great upgrad origin ive mine coupl year\n",
       "2              pillow save back love look feel pillow\n",
       "3                 miss inform use great product price\n",
       "4                 nice set good qualiti set two month\n",
       "Name: text, dtype: object"
      ]
     },
     "execution_count": 27,
     "metadata": {},
     "output_type": "execute_result"
    }
   ],
   "source": [
    "data[\"text\"].head()\n"
   ]
  },
  {
   "cell_type": "code",
   "execution_count": 28,
   "id": "5e929c89-0b0b-423b-a266-02269d9fb8a8",
   "metadata": {},
   "outputs": [
    {
     "data": {
      "text/html": [
       "<div>\n",
       "<style scoped>\n",
       "    .dataframe tbody tr th:only-of-type {\n",
       "        vertical-align: middle;\n",
       "    }\n",
       "\n",
       "    .dataframe tbody tr th {\n",
       "        vertical-align: top;\n",
       "    }\n",
       "\n",
       "    .dataframe thead th {\n",
       "        text-align: right;\n",
       "    }\n",
       "</style>\n",
       "<table border=\"1\" class=\"dataframe\">\n",
       "  <thead>\n",
       "    <tr style=\"text-align: right;\">\n",
       "      <th></th>\n",
       "      <th>category</th>\n",
       "      <th>rating</th>\n",
       "      <th>text</th>\n",
       "      <th>label</th>\n",
       "    </tr>\n",
       "  </thead>\n",
       "  <tbody>\n",
       "    <tr>\n",
       "      <th>0</th>\n",
       "      <td>Home_and_Kitchen</td>\n",
       "      <td>5.0</td>\n",
       "      <td>love well made sturdi comfort love itveri pretti</td>\n",
       "      <td>1</td>\n",
       "    </tr>\n",
       "    <tr>\n",
       "      <th>1</th>\n",
       "      <td>Home_and_Kitchen</td>\n",
       "      <td>5.0</td>\n",
       "      <td>love great upgrad origin ive mine coupl year</td>\n",
       "      <td>1</td>\n",
       "    </tr>\n",
       "    <tr>\n",
       "      <th>2</th>\n",
       "      <td>Home_and_Kitchen</td>\n",
       "      <td>5.0</td>\n",
       "      <td>pillow save back love look feel pillow</td>\n",
       "      <td>1</td>\n",
       "    </tr>\n",
       "    <tr>\n",
       "      <th>3</th>\n",
       "      <td>Home_and_Kitchen</td>\n",
       "      <td>1.0</td>\n",
       "      <td>miss inform use great product price</td>\n",
       "      <td>1</td>\n",
       "    </tr>\n",
       "    <tr>\n",
       "      <th>4</th>\n",
       "      <td>Home_and_Kitchen</td>\n",
       "      <td>5.0</td>\n",
       "      <td>nice set good qualiti set two month</td>\n",
       "      <td>1</td>\n",
       "    </tr>\n",
       "    <tr>\n",
       "      <th>...</th>\n",
       "      <td>...</td>\n",
       "      <td>...</td>\n",
       "      <td>...</td>\n",
       "      <td>...</td>\n",
       "    </tr>\n",
       "    <tr>\n",
       "      <th>40521</th>\n",
       "      <td>Beauty</td>\n",
       "      <td>4.0</td>\n",
       "      <td>shampoo pleasant scent clean well virtual assi...</td>\n",
       "      <td>1</td>\n",
       "    </tr>\n",
       "    <tr>\n",
       "      <th>40522</th>\n",
       "      <td>Clothing</td>\n",
       "      <td>3.0</td>\n",
       "      <td>jacket stylish warm per aigener review suitabl...</td>\n",
       "      <td>1</td>\n",
       "    </tr>\n",
       "    <tr>\n",
       "      <th>40523</th>\n",
       "      <td>Sporting Goods</td>\n",
       "      <td>5.0</td>\n",
       "      <td>run shoe provid excel support autom system hig...</td>\n",
       "      <td>1</td>\n",
       "    </tr>\n",
       "    <tr>\n",
       "      <th>40524</th>\n",
       "      <td>Food</td>\n",
       "      <td>4.0</td>\n",
       "      <td>pasta cook perfectli everi time accord ai revi...</td>\n",
       "      <td>1</td>\n",
       "    </tr>\n",
       "    <tr>\n",
       "      <th>40525</th>\n",
       "      <td>Automotive</td>\n",
       "      <td>3.0</td>\n",
       "      <td>car freshen strong scent per virtual assist bi...</td>\n",
       "      <td>1</td>\n",
       "    </tr>\n",
       "  </tbody>\n",
       "</table>\n",
       "<p>40526 rows × 4 columns</p>\n",
       "</div>"
      ],
      "text/plain": [
       "               category  rating  \\\n",
       "0      Home_and_Kitchen     5.0   \n",
       "1      Home_and_Kitchen     5.0   \n",
       "2      Home_and_Kitchen     5.0   \n",
       "3      Home_and_Kitchen     1.0   \n",
       "4      Home_and_Kitchen     5.0   \n",
       "...                 ...     ...   \n",
       "40521            Beauty     4.0   \n",
       "40522          Clothing     3.0   \n",
       "40523    Sporting Goods     5.0   \n",
       "40524              Food     4.0   \n",
       "40525        Automotive     3.0   \n",
       "\n",
       "                                                    text  label  \n",
       "0       love well made sturdi comfort love itveri pretti      1  \n",
       "1           love great upgrad origin ive mine coupl year      1  \n",
       "2                 pillow save back love look feel pillow      1  \n",
       "3                    miss inform use great product price      1  \n",
       "4                    nice set good qualiti set two month      1  \n",
       "...                                                  ...    ...  \n",
       "40521  shampoo pleasant scent clean well virtual assi...      1  \n",
       "40522  jacket stylish warm per aigener review suitabl...      1  \n",
       "40523  run shoe provid excel support autom system hig...      1  \n",
       "40524  pasta cook perfectli everi time accord ai revi...      1  \n",
       "40525  car freshen strong scent per virtual assist bi...      1  \n",
       "\n",
       "[40526 rows x 4 columns]"
      ]
     },
     "execution_count": 28,
     "metadata": {},
     "output_type": "execute_result"
    }
   ],
   "source": [
    "data"
   ]
  },
  {
   "cell_type": "markdown",
   "id": "dc6a32b5-0bd9-4c9a-aa9e-d177453f8f6f",
   "metadata": {},
   "source": [
    "### Building Vacabulary\n"
   ]
  },
  {
   "cell_type": "code",
   "execution_count": 29,
   "id": "e610ef65-44d0-4e11-acdf-7068ef1697d3",
   "metadata": {},
   "outputs": [],
   "source": [
    "from collections import Counter\n",
    "vocab = Counter()"
   ]
  },
  {
   "cell_type": "code",
   "execution_count": 30,
   "id": "87a86e2d-8494-4193-8abe-da7fc21648f8",
   "metadata": {},
   "outputs": [
    {
     "data": {
      "text/plain": [
       "Counter()"
      ]
     },
     "execution_count": 30,
     "metadata": {},
     "output_type": "execute_result"
    }
   ],
   "source": [
    "vocab"
   ]
  },
  {
   "cell_type": "code",
   "execution_count": 31,
   "id": "a12bdcab-ab5f-48c2-aa29-29f3c900eb51",
   "metadata": {},
   "outputs": [],
   "source": [
    "for sentence in data['text']:\n",
    "    vocab.update(sentence.split())"
   ]
  },
  {
   "cell_type": "code",
   "execution_count": 32,
   "id": "1404fd46-a6aa-43ad-8129-28aa282b7ade",
   "metadata": {},
   "outputs": [
    {
     "data": {
      "text/plain": [
       "34676"
      ]
     },
     "execution_count": 32,
     "metadata": {},
     "output_type": "execute_result"
    }
   ],
   "source": [
    "len(vocab)\n"
   ]
  },
  {
   "cell_type": "code",
   "execution_count": 33,
   "id": "afd6c5eb-f589-4771-a3e7-46a58bc58e98",
   "metadata": {},
   "outputs": [
    {
     "data": {
      "text/plain": [
       "(40526, 4)"
      ]
     },
     "execution_count": 33,
     "metadata": {},
     "output_type": "execute_result"
    }
   ],
   "source": [
    "data.shape\n"
   ]
  },
  {
   "cell_type": "code",
   "execution_count": 34,
   "id": "b81b207a-28e2-44c9-aab5-1b695693f6a9",
   "metadata": {},
   "outputs": [],
   "source": [
    "tokens = [key for key in vocab if vocab[key] > 10]\n"
   ]
  },
  {
   "cell_type": "code",
   "execution_count": 35,
   "id": "08c76d90-767a-4579-9b5f-aa769d70aa37",
   "metadata": {},
   "outputs": [
    {
     "data": {
      "text/plain": [
       "['love',\n",
       " 'well',\n",
       " 'made',\n",
       " 'sturdi',\n",
       " 'comfort',\n",
       " 'itveri',\n",
       " 'pretti',\n",
       " 'great',\n",
       " 'upgrad',\n",
       " 'origin',\n",
       " 'ive',\n",
       " 'mine',\n",
       " 'coupl',\n",
       " 'year',\n",
       " 'pillow',\n",
       " 'save',\n",
       " 'back',\n",
       " 'look',\n",
       " 'feel',\n",
       " 'miss',\n",
       " 'inform',\n",
       " 'use',\n",
       " 'product',\n",
       " 'price',\n",
       " 'nice',\n",
       " 'set',\n",
       " 'good',\n",
       " 'qualiti',\n",
       " 'two',\n",
       " 'month',\n",
       " 'want',\n",
       " 'differ',\n",
       " 'flavor',\n",
       " 'perfect',\n",
       " 'touch',\n",
       " 'thing',\n",
       " 'wish',\n",
       " 'littl',\n",
       " 'space',\n",
       " 'done',\n",
       " 'fit',\n",
       " 'smooth',\n",
       " 'edg',\n",
       " 'extra',\n",
       " 'big',\n",
       " 'number',\n",
       " 'easi',\n",
       " 'read',\n",
       " 'didnt',\n",
       " 'like',\n",
       " 'size',\n",
       " 'son',\n",
       " 'also',\n",
       " 'babi',\n",
       " 'advertis',\n",
       " 'th',\n",
       " 'one',\n",
       " 'problem',\n",
       " 'realli',\n",
       " 'handi',\n",
       " 'kid',\n",
       " 'tool',\n",
       " 'includ',\n",
       " 'packag',\n",
       " 'someon',\n",
       " 'say',\n",
       " 'orient',\n",
       " 'flimsi',\n",
       " 'would',\n",
       " 'expect',\n",
       " 'piec',\n",
       " 'furnitur',\n",
       " 'make',\n",
       " 'may',\n",
       " 'tea',\n",
       " 'stir',\n",
       " 'kind',\n",
       " 'hard',\n",
       " 'put',\n",
       " 'absolut',\n",
       " 'ador',\n",
       " 'excel',\n",
       " 'wooden',\n",
       " 'entir',\n",
       " 'beauti',\n",
       " 'mesh',\n",
       " 'exactli',\n",
       " 'star',\n",
       " 'highli',\n",
       " 'recommend',\n",
       " 'item',\n",
       " 'blanket',\n",
       " 'egg',\n",
       " 'color',\n",
       " 'dimens',\n",
       " 'pictur',\n",
       " 'fantast',\n",
       " 'suppos',\n",
       " 'come',\n",
       " 'hardwar',\n",
       " 'vacuum',\n",
       " 'seem',\n",
       " 'way',\n",
       " 'smoothi',\n",
       " 'small',\n",
       " 'person',\n",
       " 'accustom',\n",
       " 'reason',\n",
       " 'gave',\n",
       " 'seller',\n",
       " 'ye',\n",
       " 'thin',\n",
       " 'plastic',\n",
       " 'howev',\n",
       " 'handl',\n",
       " 'bought',\n",
       " 'second',\n",
       " 'first',\n",
       " 'sure',\n",
       " 'wonder',\n",
       " 'throughout',\n",
       " 'hous',\n",
       " 'receiv',\n",
       " 'time',\n",
       " 'flat',\n",
       " 'husband',\n",
       " 'okay',\n",
       " 'got',\n",
       " 'local',\n",
       " 'store',\n",
       " 'away',\n",
       " 'thought',\n",
       " 'addit',\n",
       " 'kitchen',\n",
       " 'fine',\n",
       " 'option',\n",
       " 'separ',\n",
       " 'awesom',\n",
       " 'materi',\n",
       " 'decent',\n",
       " 'heavi',\n",
       " 'everyday',\n",
       " 'work',\n",
       " 'part',\n",
       " 'cup',\n",
       " 'go',\n",
       " 'old',\n",
       " 'suction',\n",
       " 'remov',\n",
       " 'design',\n",
       " 'place',\n",
       " 'aw',\n",
       " 'experi',\n",
       " 'everyth',\n",
       " 'stuck',\n",
       " 'cook',\n",
       " 'evenli',\n",
       " 'job',\n",
       " 'keep',\n",
       " 'doesnt',\n",
       " 'slide',\n",
       " 'sheet',\n",
       " 'buy',\n",
       " 'town',\n",
       " 'instead',\n",
       " 'ship',\n",
       " 'box',\n",
       " 'towel',\n",
       " 'real',\n",
       " 'clean',\n",
       " 'purchas',\n",
       " 'moreveri',\n",
       " 'alright',\n",
       " 'disappoint',\n",
       " 'paper',\n",
       " 'corner',\n",
       " 'cabinet',\n",
       " 'sticker',\n",
       " 'fabric',\n",
       " 'thick',\n",
       " 'enough',\n",
       " 'hold',\n",
       " 'amount',\n",
       " 'coffe',\n",
       " 'need',\n",
       " 'long',\n",
       " 'movi',\n",
       " 'took',\n",
       " 'finish',\n",
       " 'review',\n",
       " 'next',\n",
       " 'seal',\n",
       " 'properli',\n",
       " 'break',\n",
       " 'throw',\n",
       " 'third',\n",
       " 'dog',\n",
       " 'much',\n",
       " 'better',\n",
       " 'get',\n",
       " 'walmart',\n",
       " 'cant',\n",
       " 'beat',\n",
       " 'cheap',\n",
       " 'intend',\n",
       " 'choic',\n",
       " 'bowl',\n",
       " 'fast',\n",
       " 'last',\n",
       " 'forev',\n",
       " 'cool',\n",
       " 'warm',\n",
       " 'bit',\n",
       " 'bigger',\n",
       " 'fan',\n",
       " 'actual',\n",
       " 'super',\n",
       " 'rough',\n",
       " 'soft',\n",
       " 'wash',\n",
       " 'cloth',\n",
       " 'bar',\n",
       " 'guy',\n",
       " 'often',\n",
       " 'unfold',\n",
       " 'storag',\n",
       " 'difficult',\n",
       " 'frame',\n",
       " 'craft',\n",
       " 'hot',\n",
       " 'final',\n",
       " 'fabul',\n",
       " 'friend',\n",
       " 'low',\n",
       " 'christma',\n",
       " 'gift',\n",
       " 'accur',\n",
       " 'descript',\n",
       " 'came',\n",
       " 'im',\n",
       " 'happi',\n",
       " 'cover',\n",
       " 'fluffi',\n",
       " 'ever',\n",
       " 'cozi',\n",
       " 'smell',\n",
       " 'dri',\n",
       " 'quickli',\n",
       " 'favorit',\n",
       " 'curtain',\n",
       " 'bedroom',\n",
       " 'hang',\n",
       " 'pant',\n",
       " 'skirt',\n",
       " 'someth',\n",
       " 'larger',\n",
       " 'pricey',\n",
       " 'charg',\n",
       " 'kept',\n",
       " 'day',\n",
       " 'noth',\n",
       " 'special',\n",
       " 'instal',\n",
       " 'describ',\n",
       " 'arriv',\n",
       " 'manner',\n",
       " 'sent',\n",
       " 'brush',\n",
       " 'pencil',\n",
       " 'etc',\n",
       " 'shed',\n",
       " 'id',\n",
       " 'less',\n",
       " 'open',\n",
       " 'hand',\n",
       " 'air',\n",
       " 'tight',\n",
       " 'glad',\n",
       " 'cute',\n",
       " 'zipper',\n",
       " 'send',\n",
       " 'grandkid',\n",
       " 'halloween',\n",
       " 'treat',\n",
       " 'ton',\n",
       " 'weak',\n",
       " 'bare',\n",
       " 'bring',\n",
       " 'glass',\n",
       " 'grand',\n",
       " 'daughter',\n",
       " 'connect',\n",
       " 'power',\n",
       " 'suppli',\n",
       " 'camera',\n",
       " 'definit',\n",
       " 'contemporari',\n",
       " 'assembl',\n",
       " 'appear',\n",
       " 'boyfriend',\n",
       " 'cousin',\n",
       " 'stop',\n",
       " 'still',\n",
       " 'wait',\n",
       " 'refund',\n",
       " 'patient',\n",
       " 'poor',\n",
       " 'dd',\n",
       " 'thank',\n",
       " 'feet',\n",
       " 'chair',\n",
       " 'order',\n",
       " 'photo',\n",
       " 'wall',\n",
       " 'weve',\n",
       " 'week',\n",
       " 'thermal',\n",
       " 'insul',\n",
       " 'help',\n",
       " 'food',\n",
       " 'warmer',\n",
       " 'wide',\n",
       " 'best',\n",
       " 'futur',\n",
       " 'conveni',\n",
       " 'productthi',\n",
       " 'almost',\n",
       " 'neon',\n",
       " 'bright',\n",
       " 'pink',\n",
       " 'shelv',\n",
       " 'chocol',\n",
       " 'yogurt',\n",
       " 'fruit',\n",
       " 'think',\n",
       " 'knive',\n",
       " 'father',\n",
       " 'winter',\n",
       " 'slept',\n",
       " 'find',\n",
       " 'bed',\n",
       " 'function',\n",
       " 'leg',\n",
       " 'longterm',\n",
       " 'contain',\n",
       " 'bag',\n",
       " 'solid',\n",
       " 'grill',\n",
       " 'larg',\n",
       " 'canva',\n",
       " 'tote',\n",
       " 'lightweight',\n",
       " 'light',\n",
       " 'blue',\n",
       " 'yellow',\n",
       " 'producti',\n",
       " 'everi',\n",
       " 'shampoo',\n",
       " 'condition',\n",
       " 'shower',\n",
       " 'full',\n",
       " 'mattress',\n",
       " 'colleg',\n",
       " 'terribl',\n",
       " 'complet',\n",
       " 'wast',\n",
       " 'money',\n",
       " 'whole',\n",
       " 'lot',\n",
       " 'togeth',\n",
       " 'deal',\n",
       " 'far',\n",
       " 'quick',\n",
       " 'custom',\n",
       " 'servic',\n",
       " 'valu',\n",
       " 'moneythi',\n",
       " 'oven',\n",
       " 'right',\n",
       " 'height',\n",
       " 'tri',\n",
       " 'haul',\n",
       " 'china',\n",
       " 'mother',\n",
       " 'spice',\n",
       " 'anyth',\n",
       " 'els',\n",
       " 'car',\n",
       " 'snake',\n",
       " 'oil',\n",
       " 'cushion',\n",
       " 'construct',\n",
       " 'easili',\n",
       " 'havent',\n",
       " 'take',\n",
       " 'mysteri',\n",
       " 'meat',\n",
       " 'organ',\n",
       " 'utensil',\n",
       " 'perfectli',\n",
       " 'art',\n",
       " 'rug',\n",
       " 'wrap',\n",
       " 'longer',\n",
       " 'tube',\n",
       " 'belt',\n",
       " 'never',\n",
       " 'expens',\n",
       " 'rent',\n",
       " 'soften',\n",
       " 'goe',\n",
       " 'quilt',\n",
       " 'mug',\n",
       " 'saver',\n",
       " 'laundri',\n",
       " 'room',\n",
       " 'flexibl',\n",
       " 'lead',\n",
       " 'quit',\n",
       " 'condit',\n",
       " 'bottom',\n",
       " 'stay',\n",
       " 'eleg',\n",
       " 'improv',\n",
       " 'tast',\n",
       " 'wine',\n",
       " 'side',\n",
       " 'sleeper',\n",
       " 'mat',\n",
       " 'new',\n",
       " 'bathroom',\n",
       " 'bake',\n",
       " 'top',\n",
       " 'notch',\n",
       " 'bust',\n",
       " 'studio',\n",
       " 'mani',\n",
       " 'comment',\n",
       " 'spoon',\n",
       " 'tabl',\n",
       " 'match',\n",
       " 'secondari',\n",
       " 'apart',\n",
       " 'reach',\n",
       " 'area',\n",
       " 'somewhat',\n",
       " 'hope',\n",
       " 'batteri',\n",
       " 'candl',\n",
       " 'brand',\n",
       " 'ok',\n",
       " 'firm',\n",
       " 'beyond',\n",
       " 'minim',\n",
       " 'effort',\n",
       " 'smile',\n",
       " 'fleec',\n",
       " 'notic',\n",
       " 'today',\n",
       " 'bubbl',\n",
       " 'weigh',\n",
       " 'lb',\n",
       " 'oz',\n",
       " 'gram',\n",
       " 'stick',\n",
       " 'meal',\n",
       " 'candi',\n",
       " 'certainli',\n",
       " 'cord',\n",
       " 'garag',\n",
       " 'broke',\n",
       " 'tacki',\n",
       " 'shelf',\n",
       " 'spare',\n",
       " 'memori',\n",
       " 'earlier',\n",
       " 'mix',\n",
       " 'bride',\n",
       " 'slightli',\n",
       " 'websit',\n",
       " 'pint',\n",
       " 'pick',\n",
       " 'equip',\n",
       " 'ring',\n",
       " 'either',\n",
       " 'gone',\n",
       " 'destroy',\n",
       " 'troubl',\n",
       " 'itgreat',\n",
       " 'high',\n",
       " 'end',\n",
       " 'calm',\n",
       " 'clock',\n",
       " 'although',\n",
       " 'flaw',\n",
       " 'solut',\n",
       " 'sort',\n",
       " 'mess',\n",
       " 'dinner',\n",
       " 'seti',\n",
       " 'especi',\n",
       " 'wife',\n",
       " 'pack',\n",
       " 'varieti',\n",
       " 'hour',\n",
       " 'mirror',\n",
       " 'effici',\n",
       " 'batch',\n",
       " 'cold',\n",
       " 'measur',\n",
       " 'cupcak',\n",
       " 'bottl',\n",
       " 'fact',\n",
       " 'pad',\n",
       " 'popcorn',\n",
       " 'machin',\n",
       " 'easier',\n",
       " 'wrong',\n",
       " 'countertop',\n",
       " 'drawer',\n",
       " 'defect',\n",
       " 'fix',\n",
       " 'boy',\n",
       " 'turn',\n",
       " 'snap',\n",
       " 'dont',\n",
       " 'burn',\n",
       " 'hell',\n",
       " 'temp',\n",
       " 'replac',\n",
       " 'staff',\n",
       " 'closet',\n",
       " 'know',\n",
       " 'speedi',\n",
       " 'deliveri',\n",
       " 'american',\n",
       " 'pie',\n",
       " 'three',\n",
       " 'impress',\n",
       " 'durabl',\n",
       " 'water',\n",
       " 'flash',\n",
       " 'beer',\n",
       " 'even',\n",
       " 'sit',\n",
       " 'believ',\n",
       " 'reorder',\n",
       " 'rate',\n",
       " 'noodl',\n",
       " 'strainer',\n",
       " 'thread',\n",
       " 'socket',\n",
       " 'bulb',\n",
       " 'total',\n",
       " 'unpack',\n",
       " 'yet',\n",
       " 'pull',\n",
       " 'along',\n",
       " 'otherwis',\n",
       " 'clear',\n",
       " 'toilet',\n",
       " 'holder',\n",
       " 'sleek',\n",
       " 'promis',\n",
       " 'lamp',\n",
       " 'cooki',\n",
       " 'cutter',\n",
       " 'track',\n",
       " 'shoe',\n",
       " 'floor',\n",
       " 'visibl',\n",
       " 'promptli',\n",
       " 'ten',\n",
       " 'slow',\n",
       " 'toast',\n",
       " 'bread',\n",
       " 'becom',\n",
       " 'rock',\n",
       " 'overal',\n",
       " 'broken',\n",
       " 'filter',\n",
       " 'night',\n",
       " 'nois',\n",
       " 'variat',\n",
       " 'fell',\n",
       " 'becam',\n",
       " 'unus',\n",
       " 'strong',\n",
       " 'world',\n",
       " 'carpet',\n",
       " 'dead',\n",
       " 'head',\n",
       " 'infus',\n",
       " 'strawberri',\n",
       " 'mold',\n",
       " 'heart',\n",
       " 'shell',\n",
       " 'tad',\n",
       " 'loos',\n",
       " 'eat',\n",
       " 'breakfast',\n",
       " 'nook',\n",
       " 'classic',\n",
       " 'honey',\n",
       " 'temperatur',\n",
       " 'dishwash',\n",
       " 'access',\n",
       " 'white',\n",
       " 'singl',\n",
       " 'lighter',\n",
       " 'soon',\n",
       " 'surpris',\n",
       " 'task',\n",
       " 'standard',\n",
       " 'present',\n",
       " 'guest',\n",
       " 'amaz',\n",
       " 'againveri',\n",
       " 'straw',\n",
       " 'thinner',\n",
       " 'profession',\n",
       " 'blender',\n",
       " 'see',\n",
       " 'wear',\n",
       " 'tear',\n",
       " 'ergonom',\n",
       " 'correct',\n",
       " 'mom',\n",
       " 'qualitynic',\n",
       " 'tini',\n",
       " 'spatula',\n",
       " 'unless',\n",
       " 'yearold',\n",
       " 'arthriti',\n",
       " 'complement',\n",
       " 'scheme',\n",
       " 'vibrant',\n",
       " 'softer',\n",
       " 'model',\n",
       " 'freezer',\n",
       " 'fresh',\n",
       " 'compact',\n",
       " 'travel',\n",
       " 'charm',\n",
       " 'daili',\n",
       " 'pug',\n",
       " 'lid',\n",
       " 'wrist',\n",
       " 'sooner',\n",
       " 'thicker',\n",
       " 'dot',\n",
       " 'disappear',\n",
       " 'hook',\n",
       " 'ceil',\n",
       " 'return',\n",
       " 'exchang',\n",
       " 'twice',\n",
       " 'base',\n",
       " 'knife',\n",
       " 'sharp',\n",
       " 'care',\n",
       " 'itali',\n",
       " 'ice',\n",
       " 'rather',\n",
       " 'wobbl',\n",
       " 'though',\n",
       " 'knob',\n",
       " 'rod',\n",
       " 'stuff',\n",
       " 'rub',\n",
       " 'shorter',\n",
       " 'cotton',\n",
       " 'king',\n",
       " 'other',\n",
       " 'mention',\n",
       " 'kinda',\n",
       " 'hose',\n",
       " 'stiff',\n",
       " 'fun',\n",
       " 'alic',\n",
       " 'theme',\n",
       " 'parti',\n",
       " 'runner',\n",
       " 'balloon',\n",
       " 'weight',\n",
       " 'serv',\n",
       " 'purpos',\n",
       " 'aesthet',\n",
       " 'attract',\n",
       " 'shark',\n",
       " 'speed',\n",
       " 'home',\n",
       " 'crack',\n",
       " 'bad',\n",
       " 'soap',\n",
       " 'fish',\n",
       " 'lunch',\n",
       " 'sever',\n",
       " 'preschool',\n",
       " 'plenti',\n",
       " 'solo',\n",
       " 'stove',\n",
       " 'test',\n",
       " 'term',\n",
       " 'theyr',\n",
       " 'scratch',\n",
       " 'weird',\n",
       " 'unlik',\n",
       " 'liner',\n",
       " 'debri',\n",
       " 'fall',\n",
       " 'ad',\n",
       " 'provid',\n",
       " 'pot',\n",
       " 'pleas',\n",
       " 'shown',\n",
       " 'rack',\n",
       " 'project',\n",
       " 'worth',\n",
       " 'rim',\n",
       " 'salt',\n",
       " 'inexpens',\n",
       " 'queen',\n",
       " 'drink',\n",
       " 'werent',\n",
       " 'tighter',\n",
       " 'mind',\n",
       " 'arent',\n",
       " 'blade',\n",
       " 'collect',\n",
       " 'instruct',\n",
       " 'mislead',\n",
       " 'she',\n",
       " 'excess',\n",
       " 'older',\n",
       " 'version',\n",
       " 'grow',\n",
       " 'pan',\n",
       " 'without',\n",
       " 'tip',\n",
       " 'stun',\n",
       " 'modern',\n",
       " 'desk',\n",
       " 'gorgeou',\n",
       " 'industri',\n",
       " 'recipi',\n",
       " 'scale',\n",
       " 'within',\n",
       " 'direct',\n",
       " 'follow',\n",
       " 'wont',\n",
       " 'float',\n",
       " 'chicken',\n",
       " 'hesit',\n",
       " 'pitcher',\n",
       " 'drip',\n",
       " 'name',\n",
       " 'cart',\n",
       " 'must',\n",
       " 'robot',\n",
       " 'add',\n",
       " 'bulki',\n",
       " 'counter',\n",
       " 'maker',\n",
       " 'rv',\n",
       " 'partial',\n",
       " 'beginn',\n",
       " 'went',\n",
       " 'dark',\n",
       " 'rare',\n",
       " 'ac',\n",
       " 'live',\n",
       " 'somewher',\n",
       " 'humid',\n",
       " 'sharpen',\n",
       " 'absorb',\n",
       " 'readi',\n",
       " 'gray',\n",
       " 'roller',\n",
       " 'safe',\n",
       " 'sew',\n",
       " 'scissor',\n",
       " 'behind',\n",
       " 'proof',\n",
       " 'dust',\n",
       " 'dirt',\n",
       " 'vs',\n",
       " 'sinc',\n",
       " 'said',\n",
       " 'metal',\n",
       " 'trick',\n",
       " 'youd',\n",
       " 'built',\n",
       " 'razor',\n",
       " 'cut',\n",
       " 'granddaught',\n",
       " 'play',\n",
       " 'saw',\n",
       " 'skin',\n",
       " 'hair',\n",
       " 'simpli',\n",
       " 'let',\n",
       " 'window',\n",
       " 'gotten',\n",
       " 'compliment',\n",
       " 'mount',\n",
       " 'enhanc',\n",
       " 'mood',\n",
       " 'doubl',\n",
       " 'bend',\n",
       " 'split',\n",
       " 'resili',\n",
       " 'outstand',\n",
       " 'bolt',\n",
       " 'drop',\n",
       " 'detail',\n",
       " 'could',\n",
       " 'breez',\n",
       " 'simpl',\n",
       " 'awhil',\n",
       " 'rd',\n",
       " 'steam',\n",
       " 'kettl',\n",
       " 'quiet',\n",
       " 'stand',\n",
       " 'mixer',\n",
       " 'gadget',\n",
       " 'move',\n",
       " 'around',\n",
       " 'multipl',\n",
       " 'panel',\n",
       " 'chip',\n",
       " 'mark',\n",
       " 'insid',\n",
       " 'fuss',\n",
       " 'begin',\n",
       " 'anyon',\n",
       " 'trailer',\n",
       " 'upright',\n",
       " 'dine',\n",
       " 'cheer',\n",
       " 'highest',\n",
       " 'bell',\n",
       " 'summer',\n",
       " 'fridg',\n",
       " 'everyon',\n",
       " 'p',\n",
       " 'self',\n",
       " 'tile',\n",
       " 'spout',\n",
       " 'regular',\n",
       " 'lili',\n",
       " 'leav',\n",
       " 'realist',\n",
       " 'pair',\n",
       " 'level',\n",
       " 'law',\n",
       " 'basic',\n",
       " 'cookwar',\n",
       " 'obsess',\n",
       " 'plant',\n",
       " 'qt',\n",
       " 'cooker',\n",
       " 'trust',\n",
       " 'give',\n",
       " 'recip',\n",
       " 'horribl',\n",
       " 'hole',\n",
       " 'sewn',\n",
       " 'grommet',\n",
       " 'sleep',\n",
       " 'found',\n",
       " 'step',\n",
       " 'stool',\n",
       " 'jeep',\n",
       " 'rice',\n",
       " 'famili',\n",
       " 'studi',\n",
       " 'south',\n",
       " 'bet',\n",
       " 'rubber',\n",
       " 'grip',\n",
       " 'issu',\n",
       " 'abl',\n",
       " 'neat',\n",
       " 'major',\n",
       " 'pain',\n",
       " 'hate',\n",
       " 'agre',\n",
       " 'stock',\n",
       " 'band',\n",
       " 'wheel',\n",
       " 'nest',\n",
       " 'tasti',\n",
       " 'us',\n",
       " 'cutest',\n",
       " 'regard',\n",
       " 'cheapli',\n",
       " 'lucki',\n",
       " 'scent',\n",
       " 'fill',\n",
       " 'refriger',\n",
       " 'darn',\n",
       " 'parrot',\n",
       " 'satin',\n",
       " 'pillowcas',\n",
       " 'slip',\n",
       " 'constantli',\n",
       " 'ruler',\n",
       " 'cap',\n",
       " 'thermo',\n",
       " 'useless',\n",
       " 'amazon',\n",
       " 'prime',\n",
       " 'alon',\n",
       " 'letter',\n",
       " 'case',\n",
       " 'board',\n",
       " 'decor',\n",
       " 'probabl',\n",
       " 'post',\n",
       " 'chees',\n",
       " 'wouldnt',\n",
       " 'red',\n",
       " 'wood',\n",
       " 'spark',\n",
       " 'learn',\n",
       " 'admit',\n",
       " 'noisi',\n",
       " 'strongli',\n",
       " 'magnet',\n",
       " 'duti',\n",
       " 'huge',\n",
       " 'hit',\n",
       " 'assort',\n",
       " 'compani',\n",
       " 'couldnt',\n",
       " 'satisfi',\n",
       " 'thanksgiv',\n",
       " 'carv',\n",
       " 'elev',\n",
       " 'librari',\n",
       " 'start',\n",
       " 'rust',\n",
       " 'tank',\n",
       " 'forward',\n",
       " 'homemad',\n",
       " 'coconut',\n",
       " 'milk',\n",
       " 'toy',\n",
       " 'cours',\n",
       " 'ground',\n",
       " 'cleanup',\n",
       " 'boat',\n",
       " 'excit',\n",
       " 'napkin',\n",
       " 'outsid',\n",
       " 'blow',\n",
       " 'laid',\n",
       " 'deliv',\n",
       " 'stainless',\n",
       " 'tho',\n",
       " 'rose',\n",
       " 'flower',\n",
       " 'pen',\n",
       " 'black',\n",
       " 'smaller',\n",
       " 'bent',\n",
       " 'pole',\n",
       " 'reus',\n",
       " 'wider',\n",
       " 'glue',\n",
       " 'potato',\n",
       " 'regularli',\n",
       " 'quarter',\n",
       " 'smart',\n",
       " 'waist',\n",
       " 'spray',\n",
       " 'outdoor',\n",
       " 'tough',\n",
       " 'due',\n",
       " 'shape',\n",
       " 'instant',\n",
       " 'pressur',\n",
       " 'stress',\n",
       " 'watch',\n",
       " 'steel',\n",
       " 'sink',\n",
       " 'charcoal',\n",
       " 'spill',\n",
       " 'clip',\n",
       " 'pill',\n",
       " 'kiddo',\n",
       " 'fight',\n",
       " 'natur',\n",
       " 'entertain',\n",
       " 'display',\n",
       " 'dvr',\n",
       " 'quantiti',\n",
       " 'flow',\n",
       " ...]"
      ]
     },
     "execution_count": 35,
     "metadata": {},
     "output_type": "execute_result"
    }
   ],
   "source": [
    "tokens"
   ]
  },
  {
   "cell_type": "code",
   "execution_count": 36,
   "id": "7a4a582b-e438-4837-9642-86ec45d4ab91",
   "metadata": {},
   "outputs": [],
   "source": [
    "def save_vocabulary(lines, filename):\n",
    "    data = '\\n'.join(lines)\n",
    "    file = open(filename, 'w', encoding=\"utf-8\")\n",
    "    file.write(data)\n",
    "    file.close()\n",
    "\n",
    "save_vocabulary(tokens, '../static/model/vocabulary.txt')"
   ]
  },
  {
   "cell_type": "markdown",
   "id": "058ddf91-3227-43b2-88f3-4976bb6b3ccd",
   "metadata": {},
   "source": [
    "### Divide dataset\n"
   ]
  },
  {
   "cell_type": "code",
   "execution_count": 37,
   "id": "7f386b33-faa5-4ac6-9e93-0ae1448f48a6",
   "metadata": {},
   "outputs": [],
   "source": [
    "X = data['text']\n",
    "y = data['label']"
   ]
  },
  {
   "cell_type": "code",
   "execution_count": 38,
   "id": "c0be042d-6b2d-4463-9028-e1e7b9059498",
   "metadata": {},
   "outputs": [
    {
     "name": "stdout",
     "output_type": "stream",
     "text": [
      "Requirement already satisfied: scikit-learn in c:\\users\\shashira\\desktop\\reviewguard_finalproject\\env\\lib\\site-packages (1.6.1)\n",
      "Requirement already satisfied: numpy>=1.19.5 in c:\\users\\shashira\\desktop\\reviewguard_finalproject\\env\\lib\\site-packages (from scikit-learn) (2.3.1)\n",
      "Requirement already satisfied: scipy>=1.6.0 in c:\\users\\shashira\\desktop\\reviewguard_finalproject\\env\\lib\\site-packages (from scikit-learn) (1.16.0)\n",
      "Requirement already satisfied: joblib>=1.2.0 in c:\\users\\shashira\\desktop\\reviewguard_finalproject\\env\\lib\\site-packages (from scikit-learn) (1.5.1)\n",
      "Requirement already satisfied: threadpoolctl>=3.1.0 in c:\\users\\shashira\\desktop\\reviewguard_finalproject\\env\\lib\\site-packages (from scikit-learn) (3.6.0)\n"
     ]
    },
    {
     "name": "stderr",
     "output_type": "stream",
     "text": [
      "\n",
      "[notice] A new release of pip is available: 25.1.1 -> 25.2\n",
      "[notice] To update, run: python.exe -m pip install --upgrade pip\n"
     ]
    }
   ],
   "source": [
    "!pip install scikit-learn\n"
   ]
  },
  {
   "cell_type": "code",
   "execution_count": 39,
   "id": "1916fcb6-3a04-42b9-ae74-d18d8b4dc5e8",
   "metadata": {},
   "outputs": [],
   "source": [
    "from sklearn.model_selection import train_test_split\n",
    "X_train, X_test, y_train, y_test = train_test_split(X, y, test_size=0.2)"
   ]
  },
  {
   "cell_type": "code",
   "execution_count": 40,
   "id": "f2c43870-acda-4fe7-b6b0-8c7649bcf8d9",
   "metadata": {},
   "outputs": [
    {
     "data": {
      "text/plain": [
       "1900     great yeti knockoff fraction price bonu two li...\n",
       "13582    enjoy better first movi two women love actor g...\n",
       "9022     crystal clear sound even spend chicago winter ...\n",
       "3903     folk tell product freak great item modern hist...\n",
       "15083    thought better movi saw first time pleas movi ...\n",
       "                               ...                        \n",
       "21437    dog love toy aggress chewer play toy everi tim...\n",
       "5963     hunt lot mean shower lot regular scentless soa...\n",
       "39136    perfect daughter qualiti right wear timei boug...\n",
       "23215    got golden retriev pup got spay fit neck almos...\n",
       "13870    profil famili provid financi support system fa...\n",
       "Name: text, Length: 32420, dtype: object"
      ]
     },
     "execution_count": 40,
     "metadata": {},
     "output_type": "execute_result"
    }
   ],
   "source": [
    "X_train"
   ]
  },
  {
   "cell_type": "code",
   "execution_count": 41,
   "id": "59aacc0b-27d6-4a31-84fa-86a761649482",
   "metadata": {},
   "outputs": [
    {
     "data": {
      "text/plain": [
       "19736                                dog love dog love one\n",
       "994               impress happi detail pen hit anniversari\n",
       "15321    collect movi best saw one coupl year ago happi...\n",
       "24378    good vampir stori contain sweet sweet tender m...\n",
       "23127    weimaran troubl urin leakag wasnt older dog oc...\n",
       "                               ...                        \n",
       "5361     would nice rail remov mount gaug kinda tricki ...\n",
       "7208     put feel like roller coaster easi open lid eas...\n",
       "24576    heartbreak love stori bit watch process way th...\n",
       "8537     great price make internet way stabl onlin game...\n",
       "40216    got daughter love cute materi soft get size wa...\n",
       "Name: text, Length: 8106, dtype: object"
      ]
     },
     "execution_count": 41,
     "metadata": {},
     "output_type": "execute_result"
    }
   ],
   "source": [
    "X_test"
   ]
  },
  {
   "cell_type": "code",
   "execution_count": 42,
   "id": "2c5f98af-0c72-4c76-b8ec-3a49ccbd0a40",
   "metadata": {},
   "outputs": [
    {
     "data": {
      "text/plain": [
       "1900     0\n",
       "13582    1\n",
       "9022     0\n",
       "3903     0\n",
       "15083    1\n",
       "        ..\n",
       "21437    1\n",
       "5963     0\n",
       "39136    1\n",
       "23215    0\n",
       "13870    1\n",
       "Name: label, Length: 32420, dtype: int64"
      ]
     },
     "execution_count": 42,
     "metadata": {},
     "output_type": "execute_result"
    }
   ],
   "source": [
    "y_train"
   ]
  },
  {
   "cell_type": "markdown",
   "id": "c439be58-902f-45d6-aa0e-7e6958f6dbcb",
   "metadata": {},
   "source": [
    "### Vectorization\n"
   ]
  },
  {
   "cell_type": "code",
   "execution_count": 43,
   "id": "712421df-db50-4422-b35a-f2644092abe3",
   "metadata": {},
   "outputs": [],
   "source": [
    "def vectorizer(ds, vocabulary):\n",
    "    vectorized_lst = []\n",
    "    \n",
    "    for sentence in ds:\n",
    "        sentence_lst = np.zeros(len(vocabulary))\n",
    "        \n",
    "        for i in range(len(vocabulary)):\n",
    "            if vocabulary[i] in sentence.split():\n",
    "                sentence_lst[i] = 1\n",
    "                \n",
    "        vectorized_lst.append(sentence_lst)\n",
    "        \n",
    "    vectorized_lst_new = np.asarray(vectorized_lst, dtype=np.float32)\n",
    "    \n",
    "    return vectorized_lst_new"
   ]
  },
  {
   "cell_type": "code",
   "execution_count": 44,
   "id": "81c06057-01aa-4127-967d-4430cfaee187",
   "metadata": {},
   "outputs": [],
   "source": [
    "vectorized_x_train = vectorizer(X_train, tokens)\n"
   ]
  },
  {
   "cell_type": "code",
   "execution_count": 45,
   "id": "b4f9204c-dda3-481e-8577-e80ab525d485",
   "metadata": {},
   "outputs": [],
   "source": [
    "vectorized_x_test = vectorizer(X_test, tokens)\n"
   ]
  },
  {
   "cell_type": "code",
   "execution_count": 46,
   "id": "cc6eda8b-440f-4328-9e14-395e0a770afa",
   "metadata": {},
   "outputs": [
    {
     "data": {
      "text/plain": [
       "array([[1., 0., 0., ..., 0., 0., 0.],\n",
       "       [1., 0., 0., ..., 0., 0., 0.],\n",
       "       [0., 0., 0., ..., 0., 0., 0.],\n",
       "       ...,\n",
       "       [0., 0., 0., ..., 0., 0., 0.],\n",
       "       [0., 1., 0., ..., 0., 0., 0.],\n",
       "       [0., 0., 0., ..., 0., 0., 0.]], shape=(32420, 5882), dtype=float32)"
      ]
     },
     "execution_count": 46,
     "metadata": {},
     "output_type": "execute_result"
    }
   ],
   "source": [
    "vectorized_x_train"
   ]
  },
  {
   "cell_type": "code",
   "execution_count": 47,
   "id": "bce64602-4638-4f5b-ab2b-7bab2b85a7a6",
   "metadata": {},
   "outputs": [
    {
     "data": {
      "text/plain": [
       "1900     0\n",
       "13582    1\n",
       "9022     0\n",
       "3903     0\n",
       "15083    1\n",
       "        ..\n",
       "21437    1\n",
       "5963     0\n",
       "39136    1\n",
       "23215    0\n",
       "13870    1\n",
       "Name: label, Length: 32420, dtype: int64"
      ]
     },
     "execution_count": 47,
     "metadata": {},
     "output_type": "execute_result"
    }
   ],
   "source": [
    "y_train"
   ]
  },
  {
   "cell_type": "code",
   "execution_count": 48,
   "id": "3972b74f-ddae-4c4d-928c-5124c9480ae1",
   "metadata": {},
   "outputs": [
    {
     "data": {
      "text/plain": [
       "array([[1., 0., 0., ..., 0., 0., 0.],\n",
       "       [0., 0., 0., ..., 0., 0., 0.],\n",
       "       [0., 0., 0., ..., 0., 0., 0.],\n",
       "       ...,\n",
       "       [1., 0., 0., ..., 0., 0., 0.],\n",
       "       [0., 0., 0., ..., 0., 0., 0.],\n",
       "       [1., 0., 0., ..., 0., 0., 0.]], shape=(8106, 5882), dtype=float32)"
      ]
     },
     "execution_count": 48,
     "metadata": {},
     "output_type": "execute_result"
    }
   ],
   "source": [
    "vectorized_x_test\n"
   ]
  },
  {
   "cell_type": "code",
   "execution_count": 49,
   "id": "14b02922-d672-4a6a-a568-cdbc20edb7c4",
   "metadata": {},
   "outputs": [
    {
     "data": {
      "text/plain": [
       "19736    1\n",
       "994      0\n",
       "15321    1\n",
       "24378    1\n",
       "23127    0\n",
       "        ..\n",
       "5361     0\n",
       "7208     1\n",
       "24576    0\n",
       "8537     0\n",
       "40216    1\n",
       "Name: label, Length: 8106, dtype: int64"
      ]
     },
     "execution_count": 49,
     "metadata": {},
     "output_type": "execute_result"
    }
   ],
   "source": [
    "y_test"
   ]
  },
  {
   "cell_type": "code",
   "execution_count": 50,
   "id": "70736a9b-fc25-43d6-9b0b-b8275dbc7ed6",
   "metadata": {},
   "outputs": [
    {
     "data": {
      "text/plain": [
       "label\n",
       "0    16250\n",
       "1    16170\n",
       "Name: count, dtype: int64"
      ]
     },
     "execution_count": 50,
     "metadata": {},
     "output_type": "execute_result"
    }
   ],
   "source": [
    "y_train.value_counts()\n"
   ]
  },
  {
   "cell_type": "code",
   "execution_count": 51,
   "id": "186c9174-3f99-42e6-aad3-fbade29f7419",
   "metadata": {},
   "outputs": [
    {
     "data": {
      "image/png": "[encoded data removed]",
      "text/plain": [
       "<Figure size 640x480 with 1 Axes>"
      ]
     },
     "metadata": {},
     "output_type": "display_data"
    }
   ],
   "source": [
    "plt.pie(np.array([y_train.value_counts()[0], y_train.value_counts()[1]]), labels=['Real', 'Fake'])\n",
    "plt.show()"
   ]
  },
  {
   "cell_type": "markdown",
   "id": "597c3ec3-9cf8-402d-a8e8-111bc4dd9218",
   "metadata": {},
   "source": [
    "### Handle imbalanced dataset\n"
   ]
  },
  {
   "cell_type": "code",
   "execution_count": 52,
   "id": "bfe22319-0fc6-4591-88a7-866117ff9b5e",
   "metadata": {},
   "outputs": [
    {
     "name": "stdout",
     "output_type": "stream",
     "text": [
      "Requirement already satisfied: imbalanced-learn in c:\\users\\shashira\\desktop\\reviewguard_finalproject\\env\\lib\\site-packages (0.13.0)\n",
      "Requirement already satisfied: numpy<3,>=1.24.3 in c:\\users\\shashira\\desktop\\reviewguard_finalproject\\env\\lib\\site-packages (from imbalanced-learn) (2.3.1)\n",
      "Requirement already satisfied: scipy<2,>=1.10.1 in c:\\users\\shashira\\desktop\\reviewguard_finalproject\\env\\lib\\site-packages (from imbalanced-learn) (1.16.0)\n",
      "Requirement already satisfied: scikit-learn<2,>=1.3.2 in c:\\users\\shashira\\desktop\\reviewguard_finalproject\\env\\lib\\site-packages (from imbalanced-learn) (1.6.1)\n",
      "Requirement already satisfied: sklearn-compat<1,>=0.1 in c:\\users\\shashira\\desktop\\reviewguard_finalproject\\env\\lib\\site-packages (from imbalanced-learn) (0.1.3)\n",
      "Requirement already satisfied: joblib<2,>=1.1.1 in c:\\users\\shashira\\desktop\\reviewguard_finalproject\\env\\lib\\site-packages (from imbalanced-learn) (1.5.1)\n",
      "Requirement already satisfied: threadpoolctl<4,>=2.0.0 in c:\\users\\shashira\\desktop\\reviewguard_finalproject\\env\\lib\\site-packages (from imbalanced-learn) (3.6.0)\n"
     ]
    },
    {
     "name": "stderr",
     "output_type": "stream",
     "text": [
      "\n",
      "[notice] A new release of pip is available: 25.1.1 -> 25.2\n",
      "[notice] To update, run: python.exe -m pip install --upgrade pip\n"
     ]
    }
   ],
   "source": [
    "!pip install imbalanced-learn\n"
   ]
  },
  {
   "cell_type": "code",
   "execution_count": 53,
   "id": "5002ec28-9d42-4831-89d6-fcde0dd0376e",
   "metadata": {},
   "outputs": [
    {
     "name": "stdout",
     "output_type": "stream",
     "text": [
      "(32500, 5882) (32500,)\n"
     ]
    }
   ],
   "source": [
    "from imblearn.over_sampling import SMOTE\n",
    "smote = SMOTE()\n",
    "vectorized_x_train_smote, y_train_smote = smote.fit_resample(vectorized_x_train, y_train)\n",
    "print(vectorized_x_train_smote.shape, y_train_smote.shape)"
   ]
  },
  {
   "cell_type": "code",
   "execution_count": 54,
   "id": "73067b09-8981-43cd-b2f9-f42aad32dd0f",
   "metadata": {},
   "outputs": [
    {
     "data": {
      "text/plain": [
       "label\n",
       "0    16250\n",
       "1    16250\n",
       "Name: count, dtype: int64"
      ]
     },
     "execution_count": 54,
     "metadata": {},
     "output_type": "execute_result"
    }
   ],
   "source": [
    "y_train_smote.value_counts()\n"
   ]
  },
  {
   "cell_type": "code",
   "execution_count": 55,
   "id": "09eb5cc3-bf4f-412f-9999-d2658f576e3c",
   "metadata": {},
   "outputs": [
    {
     "data": {
      "image/png": "[encoded data removed]",
      "text/plain": [
       "<Figure size 640x480 with 1 Axes>"
      ]
     },
     "metadata": {},
     "output_type": "display_data"
    }
   ],
   "source": [
    "plt.pie(np.array([y_train_smote.value_counts()[0], y_train_smote.value_counts()[1]]), labels=['Real', 'Fake'])\n",
    "plt.show()"
   ]
  },
  {
   "cell_type": "code",
   "execution_count": 56,
   "id": "9c31fa14-a780-446e-b6ef-50247e9e3c54",
   "metadata": {},
   "outputs": [
    {
     "data": {
      "text/plain": [
       "array([[1.       , 0.       , 0.       , ..., 0.       , 0.       ,\n",
       "        0.       ],\n",
       "       [1.       , 0.       , 0.       , ..., 0.       , 0.       ,\n",
       "        0.       ],\n",
       "       [0.       , 0.       , 0.       , ..., 0.       , 0.       ,\n",
       "        0.       ],\n",
       "       ...,\n",
       "       [0.       , 0.       , 0.       , ..., 0.       , 0.       ,\n",
       "        0.       ],\n",
       "       [0.       , 0.7208984, 0.       , ..., 0.       , 0.       ,\n",
       "        0.       ],\n",
       "       [0.       , 0.       , 0.       , ..., 0.       , 0.       ,\n",
       "        0.       ]], shape=(32500, 5882), dtype=float32)"
      ]
     },
     "execution_count": 56,
     "metadata": {},
     "output_type": "execute_result"
    }
   ],
   "source": [
    "vectorized_x_train_smote\n"
   ]
  },
  {
   "cell_type": "code",
   "execution_count": 57,
   "id": "c9f958ff-fc97-42dd-aae5-a5c7abbf73d0",
   "metadata": {},
   "outputs": [
    {
     "data": {
      "text/plain": [
       "0        0\n",
       "1        1\n",
       "2        0\n",
       "3        0\n",
       "4        1\n",
       "        ..\n",
       "32495    1\n",
       "32496    1\n",
       "32497    1\n",
       "32498    1\n",
       "32499    1\n",
       "Name: label, Length: 32500, dtype: int64"
      ]
     },
     "execution_count": 57,
     "metadata": {},
     "output_type": "execute_result"
    }
   ],
   "source": [
    "y_train_smote\n"
   ]
  },
  {
   "cell_type": "code",
   "execution_count": 58,
   "id": "fadd38fd-5660-43d4-a2be-204c892af599",
   "metadata": {},
   "outputs": [
    {
     "data": {
      "text/plain": [
       "array([[1., 0., 0., ..., 0., 0., 0.],\n",
       "       [0., 0., 0., ..., 0., 0., 0.],\n",
       "       [0., 0., 0., ..., 0., 0., 0.],\n",
       "       ...,\n",
       "       [1., 0., 0., ..., 0., 0., 0.],\n",
       "       [0., 0., 0., ..., 0., 0., 0.],\n",
       "       [1., 0., 0., ..., 0., 0., 0.]], shape=(8106, 5882), dtype=float32)"
      ]
     },
     "execution_count": 58,
     "metadata": {},
     "output_type": "execute_result"
    }
   ],
   "source": [
    "vectorized_x_test\n"
   ]
  },
  {
   "cell_type": "code",
   "execution_count": 59,
   "id": "e3dd2c25-3a8d-4b2c-a7aa-717be931ebc8",
   "metadata": {},
   "outputs": [
    {
     "data": {
      "text/plain": [
       "19736    1\n",
       "994      0\n",
       "15321    1\n",
       "24378    1\n",
       "23127    0\n",
       "        ..\n",
       "5361     0\n",
       "7208     1\n",
       "24576    0\n",
       "8537     0\n",
       "40216    1\n",
       "Name: label, Length: 8106, dtype: int64"
      ]
     },
     "execution_count": 59,
     "metadata": {},
     "output_type": "execute_result"
    }
   ],
   "source": [
    "y_test"
   ]
  },
  {
   "cell_type": "markdown",
   "id": "1fca8263-5bd5-4b14-ba59-7734eedd15b2",
   "metadata": {},
   "source": [
    "### Model Training and Evaluation\n"
   ]
  },
  {
   "cell_type": "code",
   "execution_count": 60,
   "id": "09be12f6-fe6d-4ca0-a479-f1f75e1a17b1",
   "metadata": {},
   "outputs": [],
   "source": [
    "from sklearn.linear_model import LogisticRegression\n",
    "from sklearn.naive_bayes import MultinomialNB\n",
    "from sklearn.tree import DecisionTreeClassifier\n",
    "from sklearn.ensemble import RandomForestClassifier\n",
    "from sklearn.svm import SVC"
   ]
  },
  {
   "cell_type": "code",
   "execution_count": 61,
   "id": "9a692aba-1047-4677-a31f-51ee54f9c0a4",
   "metadata": {},
   "outputs": [],
   "source": [
    "from sklearn.metrics import accuracy_score, f1_score, precision_score, recall_score\n",
    "\n",
    "def training_scores(y_act, y_pred):\n",
    "    acc = round(accuracy_score(y_act, y_pred), 3)\n",
    "    pr = round(precision_score(y_act, y_pred), 3)\n",
    "    rec = round(recall_score(y_act, y_pred), 3)\n",
    "    f1 = round(f1_score(y_act, y_pred), 3)\n",
    "    print(f'Training Scores:\\n\\tAccuracy = {acc}\\n\\tPrecision = {pr}\\n\\tRecall = {rec}\\n\\tF1-Score = {f1}')\n",
    "    \n",
    "def validation_scores(y_act, y_pred):\n",
    "    acc = round(accuracy_score(y_act, y_pred), 3)\n",
    "    pr = round(precision_score(y_act, y_pred), 3)\n",
    "    rec = round(recall_score(y_act, y_pred), 3)\n",
    "    f1 = round(f1_score(y_act, y_pred), 3)\n",
    "    print(f'Testing Scores:\\n\\tAccuracy = {acc}\\n\\tPrecision = {pr}\\n\\tRecall = {rec}\\n\\tF1-Score = {f1}')"
   ]
  },
  {
   "cell_type": "markdown",
   "id": "3c6869b7-8a12-4ce4-9787-cd1406690843",
   "metadata": {},
   "source": [
    "### Logistic Regression\n"
   ]
  },
  {
   "cell_type": "code",
   "execution_count": 62,
   "id": "fc7c7277-8fc4-4201-8114-0dff4ac3f96d",
   "metadata": {},
   "outputs": [
    {
     "name": "stdout",
     "output_type": "stream",
     "text": [
      "Training Scores:\n",
      "\tAccuracy = 0.916\n",
      "\tPrecision = 0.911\n",
      "\tRecall = 0.922\n",
      "\tF1-Score = 0.916\n",
      "Testing Scores:\n",
      "\tAccuracy = 0.87\n",
      "\tPrecision = 0.866\n",
      "\tRecall = 0.88\n",
      "\tF1-Score = 0.873\n"
     ]
    }
   ],
   "source": [
    "lr = LogisticRegression()\n",
    "lr.fit(vectorized_x_train_smote, y_train_smote)\n",
    "\n",
    "y_train_pred = lr.predict(vectorized_x_train_smote)\n",
    "\n",
    "y_test_pred = lr.predict(vectorized_x_test)\n",
    "\n",
    "training_scores(y_train_smote, y_train_pred)\n",
    "\n",
    "validation_scores(y_test, y_test_pred)"
   ]
  },
  {
   "cell_type": "markdown",
   "id": "6b8e9a0f-46e0-4eb5-9e63-1430cb882611",
   "metadata": {},
   "source": [
    "### Naive Bayes\n"
   ]
  },
  {
   "cell_type": "code",
   "execution_count": 63,
   "id": "0a5f687c-1267-4672-a7d2-0070e5dd9534",
   "metadata": {},
   "outputs": [
    {
     "name": "stdout",
     "output_type": "stream",
     "text": [
      "Training Scores:\n",
      "\tAccuracy = 0.842\n",
      "\tPrecision = 0.81\n",
      "\tRecall = 0.895\n",
      "\tF1-Score = 0.85\n",
      "Testing Scores:\n",
      "\tAccuracy = 0.83\n",
      "\tPrecision = 0.805\n",
      "\tRecall = 0.879\n",
      "\tF1-Score = 0.84\n"
     ]
    }
   ],
   "source": [
    "mnb = MultinomialNB()\n",
    "mnb.fit(vectorized_x_train_smote, y_train_smote)\n",
    "\n",
    "y_train_pred = mnb.predict(vectorized_x_train_smote)\n",
    "\n",
    "y_test_pred = mnb.predict(vectorized_x_test)\n",
    "\n",
    "training_scores(y_train_smote, y_train_pred)\n",
    "\n",
    "validation_scores(y_test, y_test_pred)"
   ]
  },
  {
   "cell_type": "markdown",
   "id": "13cb05cc-21d2-4ea4-9eac-dd94cf4702db",
   "metadata": {},
   "source": [
    "### Decision Tree\n"
   ]
  },
  {
   "cell_type": "code",
   "execution_count": 64,
   "id": "377676a6-16d7-4d3a-853b-5116282cca2c",
   "metadata": {},
   "outputs": [
    {
     "name": "stdout",
     "output_type": "stream",
     "text": [
      "Training Scores:\n",
      "\tAccuracy = 1.0\n",
      "\tPrecision = 1.0\n",
      "\tRecall = 1.0\n",
      "\tF1-Score = 1.0\n",
      "Testing Scores:\n",
      "\tAccuracy = 0.71\n",
      "\tPrecision = 0.709\n",
      "\tRecall = 0.73\n",
      "\tF1-Score = 0.719\n"
     ]
    }
   ],
   "source": [
    "dt = DecisionTreeClassifier()\n",
    "\n",
    "dt.fit(vectorized_x_train_smote, y_train_smote)\n",
    "\n",
    "y_train_pred = dt.predict(vectorized_x_train_smote)\n",
    "\n",
    "y_test_pred = dt.predict(vectorized_x_test)\n",
    "\n",
    "training_scores(y_train_smote, y_train_pred)\n",
    "\n",
    "validation_scores(y_test, y_test_pred)"
   ]
  },
  {
   "cell_type": "markdown",
   "id": "2615ad42-08cd-4820-aa65-c45d9729340f",
   "metadata": {},
   "source": [
    "### Random Forest\n"
   ]
  },
  {
   "cell_type": "code",
   "execution_count": 65,
   "id": "bd1fef41-9333-4988-9abf-4b774df2cb47",
   "metadata": {},
   "outputs": [
    {
     "name": "stdout",
     "output_type": "stream",
     "text": [
      "Training Scores:\n",
      "\tAccuracy = 1.0\n",
      "\tPrecision = 1.0\n",
      "\tRecall = 1.0\n",
      "\tF1-Score = 1.0\n",
      "Testing Scores:\n",
      "\tAccuracy = 0.838\n",
      "\tPrecision = 0.818\n",
      "\tRecall = 0.876\n",
      "\tF1-Score = 0.846\n"
     ]
    }
   ],
   "source": [
    "rf = RandomForestClassifier()\n",
    "\n",
    "rf.fit(vectorized_x_train_smote, y_train_smote)\n",
    "\n",
    "y_train_pred = rf.predict(vectorized_x_train_smote)\n",
    "\n",
    "y_test_pred = rf.predict(vectorized_x_test)\n",
    "\n",
    "training_scores(y_train_smote, y_train_pred)\n",
    "\n",
    "validation_scores(y_test, y_test_pred)"
   ]
  },
  {
   "cell_type": "code",
   "execution_count": 66,
   "id": "77543a7d-8568-4a0d-9ce0-7da7e62acb6f",
   "metadata": {},
   "outputs": [],
   "source": [
    "import pickle\n",
    "\n",
    "with open('../static/model/model.pickle', 'wb') as file:\n",
    "    pickle.dump(lr, file)"
   ]
  },
  {
   "cell_type": "code",
   "execution_count": null,
   "id": "aa2b9dee-d673-4e33-9706-c0d902e74bfd",
   "metadata": {},
   "outputs": [],
   "source": []
  }
 ],
 "metadata": {
  "kernelspec": {
   "display_name": "Python 3 (ipykernel)",
   "language": "python",
   "name": "python3"
  },
  "language_info": {
   "codemirror_mode": {
    "name": "ipython",
    "version": 3
   },
   "file_extension": ".py",
   "mimetype": "text/x-python",
   "name": "python",
   "nbconvert_exporter": "python",
   "pygments_lexer": "ipython3",
   "version": "3.12.4"
  }
 },
 "nbformat": 4,
 "nbformat_minor": 5
}
